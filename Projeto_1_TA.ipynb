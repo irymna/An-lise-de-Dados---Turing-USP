{
  "nbformat": 4,
  "nbformat_minor": 0,
  "metadata": {
    "colab": {
      "name": "Projeto 1 - TA.ipynb",
      "provenance": [],
      "collapsed_sections": [
        "dg7Gg-6elCV3",
        "IQEyO3DNlfjX",
        "6Fbkrk_czMTl",
        "fg95RZoGD7Ir",
        "f-dryz7n1Y2K",
        "PdCJbrZDv65V",
        "OhK5DoLEmGEA",
        "553vkljR83ul",
        "FFIu091wzhKx",
        "8PeVHiOx30fK",
        "LagsJ_mdoooR"
      ],
      "toc_visible": true,
      "authorship_tag": "ABX9TyMLCwx74iGG0tMC/r6rmxj7",
      "include_colab_link": true
    },
    "kernelspec": {
      "display_name": "Python 3",
      "name": "python3"
    },
    "language_info": {
      "name": "python"
    }
  },
  "cells": [
    {
      "cell_type": "markdown",
      "metadata": {
        "id": "view-in-github",
        "colab_type": "text"
      },
      "source": [
        "<a href=\"https://colab.research.google.com/github/irymna/Iryna/blob/main/Projeto_1_TA.ipynb\" target=\"_parent\"><img src=\"https://colab.research.google.com/assets/colab-badge.svg\" alt=\"Open In Colab\"/></a>"
      ]
    },
    {
      "cell_type": "markdown",
      "metadata": {
        "id": "SNaQJkmY8TBV"
      },
      "source": [
        "# PROJETO 1 - OLIMPÍADAS"
      ]
    },
    {
      "cell_type": "markdown",
      "metadata": {
        "id": "J4FjA4169Fq1"
      },
      "source": [
        "A seguir, meus passos para a limpeza dos dados, seguido da sua análise."
      ]
    },
    {
      "cell_type": "markdown",
      "metadata": {
        "id": "iaKMPjIIr5Xa"
      },
      "source": [
        "### Importar as bibliotecas e o dataset\n"
      ]
    },
    {
      "cell_type": "code",
      "metadata": {
        "id": "6ectwKqnsrKb"
      },
      "source": [
        "import pandas as pd\n",
        "import numpy as np\n",
        "import matplotlib.pyplot as plt\n",
        "import seaborn as sns"
      ],
      "execution_count": 113,
      "outputs": []
    },
    {
      "cell_type": "code",
      "metadata": {
        "colab": {
          "base_uri": "https://localhost:8080/",
          "height": 398
        },
        "id": "QI5LN0T4tIpQ",
        "outputId": "5a75a7e6-ed21-402e-d555-adfc3cf23152"
      },
      "source": [
        "df = pd.read_csv(\"df_athlete_events.csv\", index_col = 0)\n",
        "df.head()"
      ],
      "execution_count": 114,
      "outputs": [
        {
          "output_type": "execute_result",
          "data": {
            "text/html": [
              "<div>\n",
              "<style scoped>\n",
              "    .dataframe tbody tr th:only-of-type {\n",
              "        vertical-align: middle;\n",
              "    }\n",
              "\n",
              "    .dataframe tbody tr th {\n",
              "        vertical-align: top;\n",
              "    }\n",
              "\n",
              "    .dataframe thead th {\n",
              "        text-align: right;\n",
              "    }\n",
              "</style>\n",
              "<table border=\"1\" class=\"dataframe\">\n",
              "  <thead>\n",
              "    <tr style=\"text-align: right;\">\n",
              "      <th></th>\n",
              "      <th>Name</th>\n",
              "      <th>Sex</th>\n",
              "      <th>Age</th>\n",
              "      <th>Height</th>\n",
              "      <th>Weight</th>\n",
              "      <th>Team</th>\n",
              "      <th>NOC</th>\n",
              "      <th>Games</th>\n",
              "      <th>Year</th>\n",
              "      <th>Season</th>\n",
              "      <th>City</th>\n",
              "      <th>Sport</th>\n",
              "      <th>Event</th>\n",
              "      <th>Medal</th>\n",
              "    </tr>\n",
              "    <tr>\n",
              "      <th>Athlete_ID</th>\n",
              "      <th></th>\n",
              "      <th></th>\n",
              "      <th></th>\n",
              "      <th></th>\n",
              "      <th></th>\n",
              "      <th></th>\n",
              "      <th></th>\n",
              "      <th></th>\n",
              "      <th></th>\n",
              "      <th></th>\n",
              "      <th></th>\n",
              "      <th></th>\n",
              "      <th></th>\n",
              "      <th></th>\n",
              "    </tr>\n",
              "  </thead>\n",
              "  <tbody>\n",
              "    <tr>\n",
              "      <th>4</th>\n",
              "      <td>Edgar Lindenau Aabye</td>\n",
              "      <td>M</td>\n",
              "      <td>34.0</td>\n",
              "      <td>NaN</td>\n",
              "      <td>NaN</td>\n",
              "      <td>Denmark/Sweden</td>\n",
              "      <td>DEN</td>\n",
              "      <td>1900 Summer</td>\n",
              "      <td>1900</td>\n",
              "      <td>Summer</td>\n",
              "      <td>Paris</td>\n",
              "      <td>Tug-Of-War</td>\n",
              "      <td>Tug-Of-War Men's Tug-Of-War</td>\n",
              "      <td>Gold</td>\n",
              "    </tr>\n",
              "    <tr>\n",
              "      <th>6</th>\n",
              "      <td>Per Knut Aaland</td>\n",
              "      <td>M</td>\n",
              "      <td>31.0</td>\n",
              "      <td>188.0</td>\n",
              "      <td>75.0</td>\n",
              "      <td>United States</td>\n",
              "      <td>USA</td>\n",
              "      <td>1992 Winter</td>\n",
              "      <td>1992</td>\n",
              "      <td>Winter</td>\n",
              "      <td>Albertville</td>\n",
              "      <td>Cross Country Skiing</td>\n",
              "      <td>Cross Country Skiing Men's 10/15 kilometres Pu...</td>\n",
              "      <td>NaN</td>\n",
              "    </tr>\n",
              "    <tr>\n",
              "      <th>15</th>\n",
              "      <td>Arvo Ossian Aaltonen</td>\n",
              "      <td>M</td>\n",
              "      <td>30.0</td>\n",
              "      <td>NaN</td>\n",
              "      <td>NaN</td>\n",
              "      <td>Finland</td>\n",
              "      <td>FIN</td>\n",
              "      <td>1920 Summer</td>\n",
              "      <td>1920</td>\n",
              "      <td>Summer</td>\n",
              "      <td>Antwerpen</td>\n",
              "      <td>Swimming</td>\n",
              "      <td>Swimming Men's 200 metres Breaststroke</td>\n",
              "      <td>Bronze</td>\n",
              "    </tr>\n",
              "    <tr>\n",
              "      <th>15</th>\n",
              "      <td>Arvo Ossian Aaltonen</td>\n",
              "      <td>M</td>\n",
              "      <td>30.0</td>\n",
              "      <td>NaN</td>\n",
              "      <td>NaN</td>\n",
              "      <td>Finland</td>\n",
              "      <td>FIN</td>\n",
              "      <td>1920 Summer</td>\n",
              "      <td>1920</td>\n",
              "      <td>Summer</td>\n",
              "      <td>Antwerpen</td>\n",
              "      <td>Swimming</td>\n",
              "      <td>Swimming Men's 400 metres Breaststroke</td>\n",
              "      <td>Bronze</td>\n",
              "    </tr>\n",
              "    <tr>\n",
              "      <th>16</th>\n",
              "      <td>Juhamatti Tapio Aaltonen</td>\n",
              "      <td>M</td>\n",
              "      <td>28.0</td>\n",
              "      <td>184.0</td>\n",
              "      <td>85.0</td>\n",
              "      <td>Finland</td>\n",
              "      <td>FIN</td>\n",
              "      <td>2014 Winter</td>\n",
              "      <td>2014</td>\n",
              "      <td>Winter</td>\n",
              "      <td>Sochi</td>\n",
              "      <td>Ice Hockey</td>\n",
              "      <td>Ice Hockey Men's Ice Hockey</td>\n",
              "      <td>Bronze</td>\n",
              "    </tr>\n",
              "  </tbody>\n",
              "</table>\n",
              "</div>"
            ],
            "text/plain": [
              "                                Name  ...   Medal\n",
              "Athlete_ID                            ...        \n",
              "4               Edgar Lindenau Aabye  ...    Gold\n",
              "6                    Per Knut Aaland  ...     NaN\n",
              "15              Arvo Ossian Aaltonen  ...  Bronze\n",
              "15              Arvo Ossian Aaltonen  ...  Bronze\n",
              "16          Juhamatti Tapio Aaltonen  ...  Bronze\n",
              "\n",
              "[5 rows x 14 columns]"
            ]
          },
          "metadata": {},
          "execution_count": 114
        }
      ]
    },
    {
      "cell_type": "code",
      "metadata": {
        "colab": {
          "base_uri": "https://localhost:8080/"
        },
        "id": "O6eiryceC2AO",
        "outputId": "7ba4ca79-37ec-43ba-c238-74d327c168e4"
      },
      "source": [
        "df.shape # quantas linhas e colunas tem"
      ],
      "execution_count": 115,
      "outputs": [
        {
          "output_type": "execute_result",
          "data": {
            "text/plain": [
              "(45567, 14)"
            ]
          },
          "metadata": {},
          "execution_count": 115
        }
      ]
    },
    {
      "cell_type": "code",
      "metadata": {
        "colab": {
          "base_uri": "https://localhost:8080/"
        },
        "id": "B_nK-ZhyhFSF",
        "outputId": "f2db7920-8875-4c72-cb59-b4494257f22f"
      },
      "source": [
        "df['Medal'].value_counts() # quantas linhas tem medalhas"
      ],
      "execution_count": 116,
      "outputs": [
        {
          "output_type": "execute_result",
          "data": {
            "text/plain": [
              "Gold      13320\n",
              "Bronze    13255\n",
              "Silver    13063\n",
              "Nelson      166\n",
              "Name: Medal, dtype: int64"
            ]
          },
          "metadata": {},
          "execution_count": 116
        }
      ]
    },
    {
      "cell_type": "code",
      "metadata": {
        "colab": {
          "base_uri": "https://localhost:8080/"
        },
        "id": "cdjCqt_PoJ9b",
        "outputId": "83abca88-dd31-4c08-c329-0efa0d8078c0"
      },
      "source": [
        "df['Medal'].value_counts()"
      ],
      "execution_count": 117,
      "outputs": [
        {
          "output_type": "execute_result",
          "data": {
            "text/plain": [
              "Gold      13320\n",
              "Bronze    13255\n",
              "Silver    13063\n",
              "Nelson      166\n",
              "Name: Medal, dtype: int64"
            ]
          },
          "metadata": {},
          "execution_count": 117
        }
      ]
    },
    {
      "cell_type": "markdown",
      "metadata": {
        "id": "5Yyn_wn4wu-t"
      },
      "source": [
        "## Observações iniciais"
      ]
    },
    {
      "cell_type": "code",
      "metadata": {
        "colab": {
          "base_uri": "https://localhost:8080/"
        },
        "id": "gmmEnWuZwzh9",
        "outputId": "7fecd5ea-5282-4d9e-9421-ad1e14c1169f"
      },
      "source": [
        "df.info()"
      ],
      "execution_count": 118,
      "outputs": [
        {
          "output_type": "stream",
          "name": "stdout",
          "text": [
            "<class 'pandas.core.frame.DataFrame'>\n",
            "Int64Index: 45567 entries, 4 to 135563\n",
            "Data columns (total 14 columns):\n",
            " #   Column  Non-Null Count  Dtype  \n",
            "---  ------  --------------  -----  \n",
            " 0   Name    45567 non-null  object \n",
            " 1   Sex     45567 non-null  object \n",
            " 2   Age     44594 non-null  float64\n",
            " 3   Height  35547 non-null  float64\n",
            " 4   Weight  34926 non-null  object \n",
            " 5   Team    45567 non-null  object \n",
            " 6   NOC     45567 non-null  object \n",
            " 7   Games   45567 non-null  object \n",
            " 8   Year    45567 non-null  int64  \n",
            " 9   Season  45567 non-null  object \n",
            " 10  City    45567 non-null  object \n",
            " 11  Sport   45567 non-null  object \n",
            " 12  Event   45567 non-null  object \n",
            " 13  Medal   39804 non-null  object \n",
            "dtypes: float64(2), int64(1), object(11)\n",
            "memory usage: 5.2+ MB\n"
          ]
        }
      ]
    },
    {
      "cell_type": "markdown",
      "metadata": {
        "id": "m1xnDBpkhQjl"
      },
      "source": [
        "## **Limpeza dos dados**\n",
        "\n",
        "\n"
      ]
    },
    {
      "cell_type": "markdown",
      "metadata": {
        "id": "-0qd3DP0z1UI"
      },
      "source": [
        "### **Dados categóricos**"
      ]
    },
    {
      "cell_type": "code",
      "metadata": {
        "colab": {
          "base_uri": "https://localhost:8080/",
          "height": 171
        },
        "id": "0eeVH0PFz8C4",
        "outputId": "1e847db2-bb1d-4054-9ff6-89da03e79005"
      },
      "source": [
        "df.describe(include=['object'])"
      ],
      "execution_count": 119,
      "outputs": [
        {
          "output_type": "execute_result",
          "data": {
            "text/html": [
              "<div>\n",
              "<style scoped>\n",
              "    .dataframe tbody tr th:only-of-type {\n",
              "        vertical-align: middle;\n",
              "    }\n",
              "\n",
              "    .dataframe tbody tr th {\n",
              "        vertical-align: top;\n",
              "    }\n",
              "\n",
              "    .dataframe thead th {\n",
              "        text-align: right;\n",
              "    }\n",
              "</style>\n",
              "<table border=\"1\" class=\"dataframe\">\n",
              "  <thead>\n",
              "    <tr style=\"text-align: right;\">\n",
              "      <th></th>\n",
              "      <th>Name</th>\n",
              "      <th>Sex</th>\n",
              "      <th>Weight</th>\n",
              "      <th>Team</th>\n",
              "      <th>NOC</th>\n",
              "      <th>Games</th>\n",
              "      <th>Season</th>\n",
              "      <th>City</th>\n",
              "      <th>Sport</th>\n",
              "      <th>Event</th>\n",
              "      <th>Medal</th>\n",
              "    </tr>\n",
              "  </thead>\n",
              "  <tbody>\n",
              "    <tr>\n",
              "      <th>count</th>\n",
              "      <td>45567</td>\n",
              "      <td>45567</td>\n",
              "      <td>34926</td>\n",
              "      <td>45567</td>\n",
              "      <td>45567</td>\n",
              "      <td>45567</td>\n",
              "      <td>45567</td>\n",
              "      <td>45567</td>\n",
              "      <td>45567</td>\n",
              "      <td>45567</td>\n",
              "      <td>39804</td>\n",
              "    </tr>\n",
              "    <tr>\n",
              "      <th>unique</th>\n",
              "      <td>32905</td>\n",
              "      <td>6</td>\n",
              "      <td>188</td>\n",
              "      <td>602</td>\n",
              "      <td>201</td>\n",
              "      <td>51</td>\n",
              "      <td>5</td>\n",
              "      <td>43</td>\n",
              "      <td>66</td>\n",
              "      <td>760</td>\n",
              "      <td>4</td>\n",
              "    </tr>\n",
              "    <tr>\n",
              "      <th>top</th>\n",
              "      <td>Michael Fred Phelps, II</td>\n",
              "      <td>M</td>\n",
              "      <td>70.0</td>\n",
              "      <td>United States</td>\n",
              "      <td>USA</td>\n",
              "      <td>2008 Summer</td>\n",
              "      <td>Summer</td>\n",
              "      <td>London</td>\n",
              "      <td>Athletics</td>\n",
              "      <td>Football Men's Football</td>\n",
              "      <td>Gold</td>\n",
              "    </tr>\n",
              "    <tr>\n",
              "      <th>freq</th>\n",
              "      <td>28</td>\n",
              "      <td>31664</td>\n",
              "      <td>1443</td>\n",
              "      <td>5515</td>\n",
              "      <td>5957</td>\n",
              "      <td>2321</td>\n",
              "      <td>38607</td>\n",
              "      <td>4091</td>\n",
              "      <td>4811</td>\n",
              "      <td>1379</td>\n",
              "      <td>13320</td>\n",
              "    </tr>\n",
              "  </tbody>\n",
              "</table>\n",
              "</div>"
            ],
            "text/plain": [
              "                           Name    Sex  ...                    Event  Medal\n",
              "count                     45567  45567  ...                    45567  39804\n",
              "unique                    32905      6  ...                      760      4\n",
              "top     Michael Fred Phelps, II      M  ...  Football Men's Football   Gold\n",
              "freq                         28  31664  ...                     1379  13320\n",
              "\n",
              "[4 rows x 11 columns]"
            ]
          },
          "metadata": {},
          "execution_count": 119
        }
      ]
    },
    {
      "cell_type": "markdown",
      "metadata": {
        "id": "F3RKRfFB00TA"
      },
      "source": [
        "**count** = entradas; **unique** = valores únicos; **top** = valor que mais aparece; **freq** = frequencia de valor que mais aparece"
      ]
    },
    {
      "cell_type": "code",
      "metadata": {
        "colab": {
          "base_uri": "https://localhost:8080/"
        },
        "id": "St7NDaOx1HS-",
        "outputId": "5df008cb-1526-4925-893a-02f23d09969a"
      },
      "source": [
        "pd.Series(df.Sex.unique()) # valores alterados"
      ],
      "execution_count": 120,
      "outputs": [
        {
          "output_type": "execute_result",
          "data": {
            "text/plain": [
              "0                          M\n",
              "1                       MALE\n",
              "2                     FEMALE\n",
              "3                          F\n",
              "4    Vic vai te dar um socao\n",
              "5          P&D >> Comunidade\n",
              "dtype: object"
            ]
          },
          "metadata": {},
          "execution_count": 120
        }
      ]
    },
    {
      "cell_type": "code",
      "metadata": {
        "colab": {
          "base_uri": "https://localhost:8080/"
        },
        "id": "vkM28B5X4WPd",
        "outputId": "417e6f78-701e-4444-bcaa-05c5c0579667"
      },
      "source": [
        "pd.Series(df.Medal.unique()) # valores alterados"
      ],
      "execution_count": 121,
      "outputs": [
        {
          "output_type": "execute_result",
          "data": {
            "text/plain": [
              "0      Gold\n",
              "1       NaN\n",
              "2    Bronze\n",
              "3    Silver\n",
              "4    Nelson\n",
              "dtype: object"
            ]
          },
          "metadata": {},
          "execution_count": 121
        }
      ]
    },
    {
      "cell_type": "code",
      "metadata": {
        "colab": {
          "base_uri": "https://localhost:8080/"
        },
        "id": "gtaSU88b7HtG",
        "outputId": "4405e46f-773e-497f-b313-72e018705d8e"
      },
      "source": [
        "pd.Series(df.Season.unique()) # valores alterados"
      ],
      "execution_count": 122,
      "outputs": [
        {
          "output_type": "execute_result",
          "data": {
            "text/plain": [
              "0            Summer\n",
              "1            Winter\n",
              "2    #ForaBolsonaro\n",
              "3         Ele nunca\n",
              "4           Ele não\n",
              "dtype: object"
            ]
          },
          "metadata": {},
          "execution_count": 122
        }
      ]
    },
    {
      "cell_type": "code",
      "metadata": {
        "colab": {
          "base_uri": "https://localhost:8080/"
        },
        "id": "qPhQ_sKwfIZZ",
        "outputId": "8e9d9413-f83a-471b-9cc1-ebb0274e983b"
      },
      "source": [
        "pd.Series(df.City.unique()) # valores alterados"
      ],
      "execution_count": 123,
      "outputs": [
        {
          "output_type": "execute_result",
          "data": {
            "text/plain": [
              "0                      Paris\n",
              "1                Albertville\n",
              "2                  Antwerpen\n",
              "3                      Sochi\n",
              "4                     London\n",
              "5                   Helsinki\n",
              "6                Lillehammer\n",
              "7             Salt Lake City\n",
              "8                     Torino\n",
              "9                    Beijing\n",
              "10                     Seoul\n",
              "11                   Atlanta\n",
              "12                      Oslo\n",
              "13              Squaw Valley\n",
              "14                 Stockholm\n",
              "15                 Melbourne\n",
              "16            Rio de Janeiro\n",
              "17                    Sydney\n",
              "18                    Athina\n",
              "19                    Moskva\n",
              "20               Los Angeles\n",
              "21                 Barcelona\n",
              "22                    Berlin\n",
              "23                     Tokyo\n",
              "24                      Roma\n",
              "25                    Munich\n",
              "26                  Chamonix\n",
              "27                 St. Louis\n",
              "28              Sankt Moritz\n",
              "29                    Nagano\n",
              "30                   Calgary\n",
              "31                  Grenoble\n",
              "32                  Montreal\n",
              "33                 Vancouver\n",
              "34                 Amsterdam\n",
              "35               Mexico City\n",
              "36                   Sapporo\n",
              "37               Lake Placid\n",
              "38                  Sarajevo\n",
              "39    Garmisch-Partenkirchen\n",
              "40         Cortina d'Ampezzo\n",
              "41                 Innsbruck\n",
              "42                    ######\n",
              "dtype: object"
            ]
          },
          "metadata": {},
          "execution_count": 123
        }
      ]
    },
    {
      "cell_type": "code",
      "metadata": {
        "colab": {
          "base_uri": "https://localhost:8080/"
        },
        "id": "MzwlUUBg37gW",
        "outputId": "6377a351-a062-40a8-d300-ec0bc749be05"
      },
      "source": [
        "df.Weight.unique() # dtype errada e valores alterados "
      ],
      "execution_count": 124,
      "outputs": [
        {
          "output_type": "execute_result",
          "data": {
            "text/plain": [
              "array([nan, '75.0', '85.0', '64.0', '72.0', '90.0', '87.0', '49.0',\n",
              "       'hsuahusahu', '76.0', '83.0', '86.0', '82.0', '55.0', '67.0',\n",
              "       '60.0', '79.0', '96.0', '97.0', '70.0', '88.0', '56.0', '80.0',\n",
              "       '59.0', '91.0', '62.0', '63.0', '130.0', '104.0', '73.0', '84.0',\n",
              "       '125.0', '50.0', '102.0', '48.0', '58.0', '78.0', '40.0', '68.0',\n",
              "       '92.0', '61.0', '95.0', '89.0', '65.0', '93.0', '77.0', '46.0',\n",
              "       '81.0', '52.0', '54.0', '57.0', '69.0', '99.0', '69.5', '51.0',\n",
              "       '120.0', '74.0', '110.0', '100.0', '66.0', '47.0', '116.0',\n",
              "       '107.0', '53.0', '45.0', '105.0', '109.0', '156.0', '71.0', '98.0',\n",
              "       '160.0', '106.0', '146.0', '44.0', '138.0', '141.0', '94.0',\n",
              "       '118.0', '101.0', '39.0', '32.0', '112.0', '115.0', '74.5',\n",
              "       '121.0', '135.0', '111.0', '43.0', '36.0', '67.5', '114.0',\n",
              "       '132.0', '65.5', '42.0', '59.5', '127.5', '108.0', '35.0', '117.0',\n",
              "       '103.0', '58.5', '214.0', '113.0', '146.5', '116.5', '140.0',\n",
              "       '38.0', '101.5', '154.0', '57.5', '136.0', '127.0', '102.5',\n",
              "       '170.0', '126.0', '77.3333333333333', '122.0', '55.5', '41.0',\n",
              "       '123.0', '34.0', '150.0', '109.5', '37.0', '70.5', '71.5', '30.0',\n",
              "       '76.5', '64.5', '33.0', '129.0', '137.0', '128.0', '73.5', '54.5',\n",
              "       '56.5', '63.5', '134.0', '147.0', '100.5', '78.5', '82.5', '61.5',\n",
              "       '83.5', '77.5', '53.5', '87.5', '124.0', '72.5', '88.5', '68.5',\n",
              "       '81.5', '89.5', '167.0', '91.5', '79.5', '66.5', '85.5', '108.5',\n",
              "       '142.0', '86.5', '106.5', '60.5', '135.5', '31.0', '148.0', '93.5',\n",
              "       '97.5', '103.5', '175.0', '90.5', '131.0', '145.0', '119.0',\n",
              "       '155.0', '139.0', '52.5', '104.5', '143.0', '105.5', '75.5',\n",
              "       '84.5', '92.5', '182.0', '62.5', '130.5', '28.0', '163.0', '133.0'],\n",
              "      dtype=object)"
            ]
          },
          "metadata": {},
          "execution_count": 124
        }
      ]
    },
    {
      "cell_type": "markdown",
      "metadata": {
        "id": "oX8HxrkOjSFO"
      },
      "source": [
        "#### Plotando Gráficos do Dtype"
      ]
    },
    {
      "cell_type": "code",
      "metadata": {
        "colab": {
          "base_uri": "https://localhost:8080/",
          "height": 517
        },
        "id": "W25HZs5RjXYW",
        "outputId": "57515dff-76f3-4b4a-addf-13a65b0aa43b"
      },
      "source": [
        "plt.figure(figsize=(10,8))\n",
        "sns.countplot(x=df['Sex'])\n",
        "sns.set_theme(style='darkgrid')\n",
        "plt.title('Sexo dos Atletas Olímpicos')\n",
        "plt.xlabel('Sexo')\n",
        "plt.ylabel('Número de ocorrência')\n",
        "plt.show()\n"
      ],
      "execution_count": 128,
      "outputs": [
        {
          "output_type": "display_data",
          "data": {
            "image/png": "[encoded data removed]",
            "text/plain": [
              "<Figure size 720x576 with 1 Axes>"
            ]
          },
          "metadata": {}
        }
      ]
    },
    {
      "cell_type": "markdown",
      "metadata": {
        "id": "FiGCu3DffGx4"
      },
      "source": [
        "O gráfico mostra que há valores que precisam ser retirados e outros que fornecem a mesma informação, mas escrita de outra forma."
      ]
    },
    {
      "cell_type": "code",
      "metadata": {
        "colab": {
          "base_uri": "https://localhost:8080/",
          "height": 517
        },
        "id": "DrlU5kkPnLom",
        "outputId": "7a87dfe8-a213-4e53-ec1a-56d0c9c56b09"
      },
      "source": [
        "plt.figure(figsize=(10,8))\n",
        "sns.countplot(x=df['Medal'])\n",
        "sns.set_theme(style='darkgrid')\n",
        "plt.title('Quantidade de medalhas distribuídas')\n",
        "plt.xlabel('Medalha')\n",
        "plt.ylabel('Número de ocorrência')\n",
        "plt.show()"
      ],
      "execution_count": 129,
      "outputs": [
        {
          "output_type": "display_data",
          "data": {
            "image/png": "[encoded data removed]",
            "text/plain": [
              "<Figure size 720x576 with 1 Axes>"
            ]
          },
          "metadata": {}
        }
      ]
    },
    {
      "cell_type": "markdown",
      "metadata": {
        "id": "-rfspeycfZhP"
      },
      "source": [
        "Como não existe a medalha Nelson, terei que tirá-la do dataset."
      ]
    },
    {
      "cell_type": "code",
      "metadata": {
        "colab": {
          "base_uri": "https://localhost:8080/",
          "height": 517
        },
        "id": "GKpfWL-eqZld",
        "outputId": "23c1b6c2-7824-41c4-e2ff-c25f8207d187"
      },
      "source": [
        "plt.figure(figsize=(10,8))\n",
        "sns.countplot(x=df['Season'])\n",
        "sns.set_theme(style='darkgrid')\n",
        "plt.title('Temporada de Jogos')\n",
        "plt.xlabel('Estação')\n",
        "plt.ylabel('Número de ocorrência')\n",
        "plt.show()"
      ],
      "execution_count": 130,
      "outputs": [
        {
          "output_type": "display_data",
          "data": {
            "image/png": "[encoded data removed]",
            "text/plain": [
              "<Figure size 720x576 with 1 Axes>"
            ]
          },
          "metadata": {}
        }
      ]
    },
    {
      "cell_type": "markdown",
      "metadata": {
        "id": "x9YxbW7xfihn"
      },
      "source": [
        "Novamente, há dados que necessitam ser retirados."
      ]
    },
    {
      "cell_type": "markdown",
      "metadata": {
        "id": "4lToqXg2hSBY"
      },
      "source": [
        "#### Trocando dados categóricos"
      ]
    },
    {
      "cell_type": "markdown",
      "metadata": {
        "id": "dg7Gg-6elCV3"
      },
      "source": [
        "#####Coluna de Sexo"
      ]
    },
    {
      "cell_type": "code",
      "metadata": {
        "id": "oaEzROXAhUlh"
      },
      "source": [
        "df[\"Sex\"].replace(\"M\", \"MALE\", inplace=True) # inplace atribui ao dataframe\n",
        "df[\"Sex\"].replace(\"F\", \"FEMALE\", inplace=True)"
      ],
      "execution_count": 131,
      "outputs": []
    },
    {
      "cell_type": "code",
      "metadata": {
        "colab": {
          "base_uri": "https://localhost:8080/"
        },
        "id": "-5kgXmr7iTfJ",
        "outputId": "b30df16a-2916-45db-893c-88ebcca95e64"
      },
      "source": [
        "pd.Series(df.Sex.unique())"
      ],
      "execution_count": 132,
      "outputs": [
        {
          "output_type": "execute_result",
          "data": {
            "text/plain": [
              "0                       MALE\n",
              "1                     FEMALE\n",
              "2    Vic vai te dar um socao\n",
              "3          P&D >> Comunidade\n",
              "dtype: object"
            ]
          },
          "metadata": {},
          "execution_count": 132
        }
      ]
    },
    {
      "cell_type": "code",
      "metadata": {
        "colab": {
          "base_uri": "https://localhost:8080/"
        },
        "id": "cgrjvjUAmY19",
        "outputId": "b6ee8f9a-4db5-48af-80c3-afcf8afb9fef"
      },
      "source": [
        "len(df[df['Sex'] == 'Vic vai te dar um socao'])"
      ],
      "execution_count": 133,
      "outputs": [
        {
          "output_type": "execute_result",
          "data": {
            "text/plain": [
              "312"
            ]
          },
          "metadata": {},
          "execution_count": 133
        }
      ]
    },
    {
      "cell_type": "code",
      "metadata": {
        "colab": {
          "base_uri": "https://localhost:8080/"
        },
        "id": "EZEoMxpDpWt7",
        "outputId": "c57ca0f5-eee9-4ed2-fa58-6c48fb06cb88"
      },
      "source": [
        "len(df[df['Sex'] == 'P&D >> Comunidade'])"
      ],
      "execution_count": 134,
      "outputs": [
        {
          "output_type": "execute_result",
          "data": {
            "text/plain": [
              "333"
            ]
          },
          "metadata": {},
          "execution_count": 134
        }
      ]
    },
    {
      "cell_type": "code",
      "metadata": {
        "colab": {
          "base_uri": "https://localhost:8080/"
        },
        "id": "TP5na4_WpbJn",
        "outputId": "b6ecd963-c1d0-46f2-afc9-1e87de68443e"
      },
      "source": [
        "df['Sex'].value_counts()"
      ],
      "execution_count": 135,
      "outputs": [
        {
          "output_type": "execute_result",
          "data": {
            "text/plain": [
              "MALE                       32429\n",
              "FEMALE                     12493\n",
              "P&D >> Comunidade            333\n",
              "Vic vai te dar um socao      312\n",
              "Name: Sex, dtype: int64"
            ]
          },
          "metadata": {},
          "execution_count": 135
        }
      ]
    },
    {
      "cell_type": "code",
      "metadata": {
        "colab": {
          "base_uri": "https://localhost:8080/"
        },
        "id": "IoXEVwlwpxwj",
        "outputId": "0b035f39-9d20-4c9e-fc2e-1eb5e30b54ae"
      },
      "source": [
        "df['Sex'].replace('Vic vai te dar um socao', df['Sex'].mode()[0], inplace=True)\n",
        "df['Sex'].replace('P&D >> Comunidade', df['Sex'].mode()[0], inplace=True)\n",
        "df['Sex'].value_counts()"
      ],
      "execution_count": 136,
      "outputs": [
        {
          "output_type": "execute_result",
          "data": {
            "text/plain": [
              "MALE      33074\n",
              "FEMALE    12493\n",
              "Name: Sex, dtype: int64"
            ]
          },
          "metadata": {},
          "execution_count": 136
        }
      ]
    },
    {
      "cell_type": "markdown",
      "metadata": {
        "id": "IQEyO3DNlfjX"
      },
      "source": [
        "#####Coluna de medalha"
      ]
    },
    {
      "cell_type": "code",
      "metadata": {
        "colab": {
          "base_uri": "https://localhost:8080/"
        },
        "id": "FjdXT7rMli1O",
        "outputId": "dd779fc8-f423-4799-8c43-46086161d7ff"
      },
      "source": [
        "len(df[df['Medal'] == 'Nelson'])"
      ],
      "execution_count": 137,
      "outputs": [
        {
          "output_type": "execute_result",
          "data": {
            "text/plain": [
              "166"
            ]
          },
          "metadata": {},
          "execution_count": 137
        }
      ]
    },
    {
      "cell_type": "code",
      "metadata": {
        "colab": {
          "base_uri": "https://localhost:8080/"
        },
        "id": "GoE4cAoKmDvu",
        "outputId": "7ecee45a-4146-4b1f-a9a6-0b85fed9673f"
      },
      "source": [
        "df['Medal'].replace('Nelson', df['Medal'].mode()[0], inplace=True)\n",
        "pd.Series(df.Medal.unique())"
      ],
      "execution_count": 138,
      "outputs": [
        {
          "output_type": "execute_result",
          "data": {
            "text/plain": [
              "0      Gold\n",
              "1       NaN\n",
              "2    Bronze\n",
              "3    Silver\n",
              "dtype: object"
            ]
          },
          "metadata": {},
          "execution_count": 138
        }
      ]
    },
    {
      "cell_type": "markdown",
      "metadata": {
        "id": "hRXWgKCAndmV"
      },
      "source": [
        "#####Coluna de temporada"
      ]
    },
    {
      "cell_type": "code",
      "metadata": {
        "colab": {
          "base_uri": "https://localhost:8080/"
        },
        "id": "0rXtEmMoniXW",
        "outputId": "5e30f39a-2957-4a8b-b84e-8a1f8810383a"
      },
      "source": [
        "len(df[df['Season'] == '#ForaBolsonaro'])"
      ],
      "execution_count": 139,
      "outputs": [
        {
          "output_type": "execute_result",
          "data": {
            "text/plain": [
              "72"
            ]
          },
          "metadata": {},
          "execution_count": 139
        }
      ]
    },
    {
      "cell_type": "code",
      "metadata": {
        "colab": {
          "base_uri": "https://localhost:8080/"
        },
        "id": "Bwxjz98hnqdV",
        "outputId": "103c94b9-fa7c-489c-ea66-1a8738041ca4"
      },
      "source": [
        "len(df[df['Season'] == 'Ele nunca'])"
      ],
      "execution_count": 140,
      "outputs": [
        {
          "output_type": "execute_result",
          "data": {
            "text/plain": [
              "30"
            ]
          },
          "metadata": {},
          "execution_count": 140
        }
      ]
    },
    {
      "cell_type": "code",
      "metadata": {
        "colab": {
          "base_uri": "https://localhost:8080/"
        },
        "id": "C1Un6TccnzV2",
        "outputId": "1ac01873-aa91-4a27-a946-b598521d0cd2"
      },
      "source": [
        "len(df[df['Season'] == 'Ele não'])"
      ],
      "execution_count": 141,
      "outputs": [
        {
          "output_type": "execute_result",
          "data": {
            "text/plain": [
              "50"
            ]
          },
          "metadata": {},
          "execution_count": 141
        }
      ]
    },
    {
      "cell_type": "code",
      "metadata": {
        "colab": {
          "base_uri": "https://localhost:8080/"
        },
        "id": "9zF01bbiqknx",
        "outputId": "f07fbae3-7044-4703-a8e3-82f73d775c5e"
      },
      "source": [
        "df['Season'].value_counts()"
      ],
      "execution_count": 142,
      "outputs": [
        {
          "output_type": "execute_result",
          "data": {
            "text/plain": [
              "Summer            38607\n",
              "Winter             6808\n",
              "#ForaBolsonaro       72\n",
              "Ele não              50\n",
              "Ele nunca            30\n",
              "Name: Season, dtype: int64"
            ]
          },
          "metadata": {},
          "execution_count": 142
        }
      ]
    },
    {
      "cell_type": "code",
      "metadata": {
        "colab": {
          "base_uri": "https://localhost:8080/"
        },
        "id": "9bSVW9Dan_X9",
        "outputId": "befa6618-af97-4bf2-f4e1-2e32a24e5187"
      },
      "source": [
        "df['Season'].replace('#ForaBolsonaro', df['Season'].mode()[0], inplace=True)\n",
        "df['Season'].replace('Ele nunca', df['Season'].mode()[0], inplace=True)\n",
        "df['Season'].replace('Ele não', df['Season'].mode()[0], inplace=True)\n",
        "df['Season'].value_counts()"
      ],
      "execution_count": 143,
      "outputs": [
        {
          "output_type": "execute_result",
          "data": {
            "text/plain": [
              "Summer    38759\n",
              "Winter     6808\n",
              "Name: Season, dtype: int64"
            ]
          },
          "metadata": {},
          "execution_count": 143
        }
      ]
    },
    {
      "cell_type": "markdown",
      "metadata": {
        "id": "iSROAtSrwICX"
      },
      "source": [
        "#####Coluna de Cidades"
      ]
    },
    {
      "cell_type": "code",
      "metadata": {
        "colab": {
          "base_uri": "https://localhost:8080/"
        },
        "id": "wAVgaXu8wAU3",
        "outputId": "a90dfca1-bc9e-4730-f2cd-a019467ce1a7"
      },
      "source": [
        "len(df[df['City'] == '######'])\n",
        " "
      ],
      "execution_count": 144,
      "outputs": [
        {
          "output_type": "execute_result",
          "data": {
            "text/plain": [
              "134"
            ]
          },
          "metadata": {},
          "execution_count": 144
        }
      ]
    },
    {
      "cell_type": "code",
      "metadata": {
        "colab": {
          "base_uri": "https://localhost:8080/"
        },
        "id": "rakdSQ3jwNAw",
        "outputId": "5185ac9d-c3ca-4deb-a13d-805fb9ee9b49"
      },
      "source": [
        "df['City'].replace('######', df['City'].mode()[0], inplace=True)\n",
        "pd.Series(df.City.unique())"
      ],
      "execution_count": 145,
      "outputs": [
        {
          "output_type": "execute_result",
          "data": {
            "text/plain": [
              "0                      Paris\n",
              "1                Albertville\n",
              "2                  Antwerpen\n",
              "3                      Sochi\n",
              "4                     London\n",
              "5                   Helsinki\n",
              "6                Lillehammer\n",
              "7             Salt Lake City\n",
              "8                     Torino\n",
              "9                    Beijing\n",
              "10                     Seoul\n",
              "11                   Atlanta\n",
              "12                      Oslo\n",
              "13              Squaw Valley\n",
              "14                 Stockholm\n",
              "15                 Melbourne\n",
              "16            Rio de Janeiro\n",
              "17                    Sydney\n",
              "18                    Athina\n",
              "19                    Moskva\n",
              "20               Los Angeles\n",
              "21                 Barcelona\n",
              "22                    Berlin\n",
              "23                     Tokyo\n",
              "24                      Roma\n",
              "25                    Munich\n",
              "26                  Chamonix\n",
              "27                 St. Louis\n",
              "28              Sankt Moritz\n",
              "29                    Nagano\n",
              "30                   Calgary\n",
              "31                  Grenoble\n",
              "32                  Montreal\n",
              "33                 Vancouver\n",
              "34                 Amsterdam\n",
              "35               Mexico City\n",
              "36                   Sapporo\n",
              "37               Lake Placid\n",
              "38                  Sarajevo\n",
              "39    Garmisch-Partenkirchen\n",
              "40         Cortina d'Ampezzo\n",
              "41                 Innsbruck\n",
              "dtype: object"
            ]
          },
          "metadata": {},
          "execution_count": 145
        }
      ]
    },
    {
      "cell_type": "markdown",
      "metadata": {
        "id": "AwIyo1ek5GbB"
      },
      "source": [
        "##### **Coluna de Peso**"
      ]
    },
    {
      "cell_type": "markdown",
      "metadata": {
        "id": "95sqc7yP5-GI"
      },
      "source": [
        "Aqui, substituirei um dado não correspondente ao peso e trocarei o dtype para um tipo numérico."
      ]
    },
    {
      "cell_type": "code",
      "metadata": {
        "colab": {
          "base_uri": "https://localhost:8080/"
        },
        "id": "57X5Kkwd5LWZ",
        "outputId": "8179a723-60f8-4e89-cb3c-7d76cc24d4c1"
      },
      "source": [
        "len(df[df['Weight'] == 'hsuahusahu'])"
      ],
      "execution_count": 146,
      "outputs": [
        {
          "output_type": "execute_result",
          "data": {
            "text/plain": [
              "500"
            ]
          },
          "metadata": {},
          "execution_count": 146
        }
      ]
    },
    {
      "cell_type": "code",
      "metadata": {
        "colab": {
          "base_uri": "https://localhost:8080/"
        },
        "id": "VmimkekTq0I_",
        "outputId": "8f41cb41-bc4f-4800-a3bb-3f1db6141160"
      },
      "source": [
        "df['Weight'].value_counts()"
      ],
      "execution_count": 147,
      "outputs": [
        {
          "output_type": "execute_result",
          "data": {
            "text/plain": [
              "70.0     1443\n",
              "75.0     1350\n",
              "68.0     1087\n",
              "60.0     1063\n",
              "80.0     1052\n",
              "         ... \n",
              "133.0       1\n",
              "100.5       1\n",
              "108.5       1\n",
              "84.5        1\n",
              "104.5       1\n",
              "Name: Weight, Length: 188, dtype: int64"
            ]
          },
          "metadata": {},
          "execution_count": 147
        }
      ]
    },
    {
      "cell_type": "code",
      "metadata": {
        "id": "hh1eQcIs5gA3"
      },
      "source": [
        "df['Weight'].replace('hsuahusahu', df['Weight'].mode()[0], inplace=True)"
      ],
      "execution_count": 148,
      "outputs": []
    },
    {
      "cell_type": "code",
      "metadata": {
        "colab": {
          "base_uri": "https://localhost:8080/"
        },
        "id": "kowRtJyxr0CF",
        "outputId": "0f6db47b-99d4-4113-ac77-18fed6773beb"
      },
      "source": [
        "df['Weight'].mode()"
      ],
      "execution_count": 149,
      "outputs": [
        {
          "output_type": "execute_result",
          "data": {
            "text/plain": [
              "0    70.0\n",
              "dtype: object"
            ]
          },
          "metadata": {},
          "execution_count": 149
        }
      ]
    },
    {
      "cell_type": "code",
      "metadata": {
        "colab": {
          "base_uri": "https://localhost:8080/"
        },
        "id": "_kIf2ckqq_rQ",
        "outputId": "cbc12ad7-a122-48dc-a47a-bdffb6446d1a"
      },
      "source": [
        "df['Weight'].value_counts()"
      ],
      "execution_count": 150,
      "outputs": [
        {
          "output_type": "execute_result",
          "data": {
            "text/plain": [
              "70.0                1943\n",
              "75.0                1350\n",
              "68.0                1087\n",
              "60.0                1063\n",
              "80.0                1052\n",
              "                    ... \n",
              "31.0                   1\n",
              "133.0                  1\n",
              "175.0                  1\n",
              "104.5                  1\n",
              "77.3333333333333       1\n",
              "Name: Weight, Length: 187, dtype: int64"
            ]
          },
          "metadata": {},
          "execution_count": 150
        }
      ]
    },
    {
      "cell_type": "code",
      "metadata": {
        "colab": {
          "base_uri": "https://localhost:8080/"
        },
        "id": "DvAqlN4E6XG3",
        "outputId": "94e56711-0300-4a1c-885d-7d52632420ab"
      },
      "source": [
        "df['Weight'] = pd.to_numeric(df['Weight'])\n",
        "df.Weight"
      ],
      "execution_count": 151,
      "outputs": [
        {
          "output_type": "execute_result",
          "data": {
            "text/plain": [
              "Athlete_ID\n",
              "4          NaN\n",
              "6         75.0\n",
              "15         NaN\n",
              "15         NaN\n",
              "16        85.0\n",
              "          ... \n",
              "135553    80.0\n",
              "135553    80.0\n",
              "135554    82.0\n",
              "135563    64.0\n",
              "135563    64.0\n",
              "Name: Weight, Length: 45567, dtype: float64"
            ]
          },
          "metadata": {},
          "execution_count": 151
        }
      ]
    },
    {
      "cell_type": "code",
      "metadata": {
        "colab": {
          "base_uri": "https://localhost:8080/"
        },
        "id": "05DGO3piT4TQ",
        "outputId": "61ac2c76-d754-4998-e4ef-7d64704610c1"
      },
      "source": [
        "df[\"Weight\"].unique()"
      ],
      "execution_count": 152,
      "outputs": [
        {
          "output_type": "execute_result",
          "data": {
            "text/plain": [
              "array([         nan,  75.        ,  85.        ,  64.        ,\n",
              "        72.        ,  90.        ,  87.        ,  49.        ,\n",
              "        70.        ,  76.        ,  83.        ,  86.        ,\n",
              "        82.        ,  55.        ,  67.        ,  60.        ,\n",
              "        79.        ,  96.        ,  97.        ,  88.        ,\n",
              "        56.        ,  80.        ,  59.        ,  91.        ,\n",
              "        62.        ,  63.        , 130.        , 104.        ,\n",
              "        73.        ,  84.        , 125.        ,  50.        ,\n",
              "       102.        ,  48.        ,  58.        ,  78.        ,\n",
              "        40.        ,  68.        ,  92.        ,  61.        ,\n",
              "        95.        ,  89.        ,  65.        ,  93.        ,\n",
              "        77.        ,  46.        ,  81.        ,  52.        ,\n",
              "        54.        ,  57.        ,  69.        ,  99.        ,\n",
              "        69.5       ,  51.        , 120.        ,  74.        ,\n",
              "       110.        , 100.        ,  66.        ,  47.        ,\n",
              "       116.        , 107.        ,  53.        ,  45.        ,\n",
              "       105.        , 109.        , 156.        ,  71.        ,\n",
              "        98.        , 160.        , 106.        , 146.        ,\n",
              "        44.        , 138.        , 141.        ,  94.        ,\n",
              "       118.        , 101.        ,  39.        ,  32.        ,\n",
              "       112.        , 115.        ,  74.5       , 121.        ,\n",
              "       135.        , 111.        ,  43.        ,  36.        ,\n",
              "        67.5       , 114.        , 132.        ,  65.5       ,\n",
              "        42.        ,  59.5       , 127.5       , 108.        ,\n",
              "        35.        , 117.        , 103.        ,  58.5       ,\n",
              "       214.        , 113.        , 146.5       , 116.5       ,\n",
              "       140.        ,  38.        , 101.5       , 154.        ,\n",
              "        57.5       , 136.        , 127.        , 102.5       ,\n",
              "       170.        , 126.        ,  77.33333333, 122.        ,\n",
              "        55.5       ,  41.        , 123.        ,  34.        ,\n",
              "       150.        , 109.5       ,  37.        ,  70.5       ,\n",
              "        71.5       ,  30.        ,  76.5       ,  64.5       ,\n",
              "        33.        , 129.        , 137.        , 128.        ,\n",
              "        73.5       ,  54.5       ,  56.5       ,  63.5       ,\n",
              "       134.        , 147.        , 100.5       ,  78.5       ,\n",
              "        82.5       ,  61.5       ,  83.5       ,  77.5       ,\n",
              "        53.5       ,  87.5       , 124.        ,  72.5       ,\n",
              "        88.5       ,  68.5       ,  81.5       ,  89.5       ,\n",
              "       167.        ,  91.5       ,  79.5       ,  66.5       ,\n",
              "        85.5       , 108.5       , 142.        ,  86.5       ,\n",
              "       106.5       ,  60.5       , 135.5       ,  31.        ,\n",
              "       148.        ,  93.5       ,  97.5       , 103.5       ,\n",
              "       175.        ,  90.5       , 131.        , 145.        ,\n",
              "       119.        , 155.        , 139.        ,  52.5       ,\n",
              "       104.5       , 143.        , 105.5       ,  75.5       ,\n",
              "        84.5       ,  92.5       , 182.        ,  62.5       ,\n",
              "       130.5       ,  28.        , 163.        , 133.        ])"
            ]
          },
          "metadata": {},
          "execution_count": 152
        }
      ]
    },
    {
      "cell_type": "markdown",
      "metadata": {
        "id": "rhpL8OZgidn_"
      },
      "source": [
        "###**Dados faltantes**\n",
        "\n",
        "Por último, vamos verificar valores não preenchidos no dataset."
      ]
    },
    {
      "cell_type": "code",
      "metadata": {
        "colab": {
          "base_uri": "https://localhost:8080/"
        },
        "id": "PcdyFOzLioZv",
        "outputId": "6a146299-f910-4928-85fb-498f43a5cd22"
      },
      "source": [
        "df.isnull().sum()"
      ],
      "execution_count": 153,
      "outputs": [
        {
          "output_type": "execute_result",
          "data": {
            "text/plain": [
              "Name          0\n",
              "Sex           0\n",
              "Age         973\n",
              "Height    10020\n",
              "Weight    10641\n",
              "Team          0\n",
              "NOC           0\n",
              "Games         0\n",
              "Year          0\n",
              "Season        0\n",
              "City          0\n",
              "Sport         0\n",
              "Event         0\n",
              "Medal      5763\n",
              "dtype: int64"
            ]
          },
          "metadata": {},
          "execution_count": 153
        }
      ]
    },
    {
      "cell_type": "markdown",
      "metadata": {
        "id": "G6jAFFmciudu"
      },
      "source": [
        "Como os dados referentes aos atletas que não ganharam medalhas não nos interessa, excluirei esses valores."
      ]
    },
    {
      "cell_type": "code",
      "metadata": {
        "colab": {
          "base_uri": "https://localhost:8080/"
        },
        "id": "S1Qis9lvi512",
        "outputId": "abe01bcc-54d4-4db0-bdd4-5a30301ca422"
      },
      "source": [
        "shape_antes = df.shape\n",
        "print(\"Antes:\\t\", shape_antes)\n",
        "\n",
        "df.dropna(subset=['Medal'], inplace=True)\n",
        "\n",
        "shape_depois = df.shape\n",
        "print(\"Depois:\\t\", shape_depois)"
      ],
      "execution_count": 154,
      "outputs": [
        {
          "output_type": "stream",
          "name": "stdout",
          "text": [
            "Antes:\t (45567, 14)\n",
            "Depois:\t (39804, 14)\n"
          ]
        }
      ]
    },
    {
      "cell_type": "markdown",
      "metadata": {
        "id": "0Q7r9xxNkQ9-"
      },
      "source": [
        "Ainda faltam alguns valores nulos em peso e altura mas esses irei apenas preencher com a média, afinal, tem informações relevantes que não poderão ser excluídas. "
      ]
    },
    {
      "cell_type": "code",
      "metadata": {
        "id": "SyMnMQ6oEXLz"
      },
      "source": [
        "df['Weight'].fillna(df['Weight'].mode()[0], inplace=True)\n"
      ],
      "execution_count": 155,
      "outputs": []
    },
    {
      "cell_type": "code",
      "metadata": {
        "id": "e8HY6I5PsHJK"
      },
      "source": [
        "df['Height'].fillna(df['Height'].mode()[0], inplace=True)\n"
      ],
      "execution_count": 156,
      "outputs": []
    },
    {
      "cell_type": "code",
      "metadata": {
        "id": "P6gy7MmOsIcq"
      },
      "source": [
        "df['Age'].fillna(df['Age'].mode()[0], inplace=True)"
      ],
      "execution_count": 157,
      "outputs": []
    },
    {
      "cell_type": "markdown",
      "metadata": {
        "id": "TslgYiXNpW2C"
      },
      "source": [
        "Tudo limpo (espero)"
      ]
    },
    {
      "cell_type": "markdown",
      "metadata": {
        "id": "KWHotVwU2NZS"
      },
      "source": [
        "### **Dados numéricos**"
      ]
    },
    {
      "cell_type": "code",
      "metadata": {
        "colab": {
          "base_uri": "https://localhost:8080/",
          "height": 171
        },
        "id": "IGcEQnCO2Q_6",
        "outputId": "c6b5ad3f-00fb-4a08-e3c7-d26dee757e9a"
      },
      "source": [
        "df.describe().T"
      ],
      "execution_count": 180,
      "outputs": [
        {
          "output_type": "execute_result",
          "data": {
            "text/html": [
              "<div>\n",
              "<style scoped>\n",
              "    .dataframe tbody tr th:only-of-type {\n",
              "        vertical-align: middle;\n",
              "    }\n",
              "\n",
              "    .dataframe tbody tr th {\n",
              "        vertical-align: top;\n",
              "    }\n",
              "\n",
              "    .dataframe thead th {\n",
              "        text-align: right;\n",
              "    }\n",
              "</style>\n",
              "<table border=\"1\" class=\"dataframe\">\n",
              "  <thead>\n",
              "    <tr style=\"text-align: right;\">\n",
              "      <th></th>\n",
              "      <th>count</th>\n",
              "      <th>mean</th>\n",
              "      <th>std</th>\n",
              "      <th>min</th>\n",
              "      <th>25%</th>\n",
              "      <th>50%</th>\n",
              "      <th>75%</th>\n",
              "      <th>max</th>\n",
              "    </tr>\n",
              "  </thead>\n",
              "  <tbody>\n",
              "    <tr>\n",
              "      <th>Age</th>\n",
              "      <td>39753.0</td>\n",
              "      <td>25.872186</td>\n",
              "      <td>5.873926</td>\n",
              "      <td>10.0</td>\n",
              "      <td>22.0</td>\n",
              "      <td>25.0</td>\n",
              "      <td>29.0</td>\n",
              "      <td>73.0</td>\n",
              "    </tr>\n",
              "    <tr>\n",
              "      <th>Height</th>\n",
              "      <td>39753.0</td>\n",
              "      <td>178.086082</td>\n",
              "      <td>9.679591</td>\n",
              "      <td>136.0</td>\n",
              "      <td>172.0</td>\n",
              "      <td>180.0</td>\n",
              "      <td>183.0</td>\n",
              "      <td>223.0</td>\n",
              "    </tr>\n",
              "    <tr>\n",
              "      <th>Weight</th>\n",
              "      <td>39753.0</td>\n",
              "      <td>72.951496</td>\n",
              "      <td>13.158073</td>\n",
              "      <td>28.0</td>\n",
              "      <td>66.5</td>\n",
              "      <td>70.0</td>\n",
              "      <td>79.0</td>\n",
              "      <td>182.0</td>\n",
              "    </tr>\n",
              "    <tr>\n",
              "      <th>Year</th>\n",
              "      <td>39753.0</td>\n",
              "      <td>1973.939627</td>\n",
              "      <td>33.827805</td>\n",
              "      <td>1896.0</td>\n",
              "      <td>1952.0</td>\n",
              "      <td>1984.0</td>\n",
              "      <td>2002.0</td>\n",
              "      <td>2016.0</td>\n",
              "    </tr>\n",
              "  </tbody>\n",
              "</table>\n",
              "</div>"
            ],
            "text/plain": [
              "          count         mean        std     min     25%     50%     75%     max\n",
              "Age     39753.0    25.872186   5.873926    10.0    22.0    25.0    29.0    73.0\n",
              "Height  39753.0   178.086082   9.679591   136.0   172.0   180.0   183.0   223.0\n",
              "Weight  39753.0    72.951496  13.158073    28.0    66.5    70.0    79.0   182.0\n",
              "Year    39753.0  1973.939627  33.827805  1896.0  1952.0  1984.0  2002.0  2016.0"
            ]
          },
          "metadata": {},
          "execution_count": 180
        }
      ]
    },
    {
      "cell_type": "markdown",
      "metadata": {
        "id": "G82chgmrXnSs"
      },
      "source": [
        "Analisando essa tabela, percebi que há outliers na coluna de Ano e Altura."
      ]
    },
    {
      "cell_type": "markdown",
      "metadata": {
        "id": "IkVyVt4yO8oa"
      },
      "source": [
        "#### Tratando os outliers"
      ]
    },
    {
      "cell_type": "markdown",
      "metadata": {
        "id": "owfCjJ3EPUY7"
      },
      "source": [
        "#####Coluna = Year"
      ]
    },
    {
      "cell_type": "code",
      "metadata": {
        "id": "XUiML3Hctp8K"
      },
      "source": [
        "df = df.astype({\"Year\": int}) # tirar o valor decimal"
      ],
      "execution_count": 159,
      "outputs": []
    },
    {
      "cell_type": "code",
      "metadata": {
        "id": "7gxks2jR1AmB"
      },
      "source": [
        "df = df[df[\"Year\"] > 1800] \n",
        "df = df[df[\"Height\"] < 2021]\n",
        "\n"
      ],
      "execution_count": 160,
      "outputs": []
    },
    {
      "cell_type": "markdown",
      "metadata": {
        "id": "Y2EBTVCkQSVB"
      },
      "source": [
        "#####Coluna = Height\n"
      ]
    },
    {
      "cell_type": "code",
      "metadata": {
        "id": "e9qPjUoEEHWk"
      },
      "source": [
        "df = df[df[\"Height\"] > 0]\n",
        "df = df[df[\"Height\"] < 2500]"
      ],
      "execution_count": 231,
      "outputs": []
    },
    {
      "cell_type": "markdown",
      "metadata": {
        "id": "kpoM66a-xbs1"
      },
      "source": [
        "Vamos verificar se está tudo certo."
      ]
    },
    {
      "cell_type": "code",
      "metadata": {
        "colab": {
          "base_uri": "https://localhost:8080/",
          "height": 171
        },
        "id": "NEc6yDKrxbDY",
        "outputId": "defb5177-7b25-47d8-a849-41cf051361be"
      },
      "source": [
        "df.describe().T"
      ],
      "execution_count": 162,
      "outputs": [
        {
          "output_type": "execute_result",
          "data": {
            "text/html": [
              "<div>\n",
              "<style scoped>\n",
              "    .dataframe tbody tr th:only-of-type {\n",
              "        vertical-align: middle;\n",
              "    }\n",
              "\n",
              "    .dataframe tbody tr th {\n",
              "        vertical-align: top;\n",
              "    }\n",
              "\n",
              "    .dataframe thead th {\n",
              "        text-align: right;\n",
              "    }\n",
              "</style>\n",
              "<table border=\"1\" class=\"dataframe\">\n",
              "  <thead>\n",
              "    <tr style=\"text-align: right;\">\n",
              "      <th></th>\n",
              "      <th>count</th>\n",
              "      <th>mean</th>\n",
              "      <th>std</th>\n",
              "      <th>min</th>\n",
              "      <th>25%</th>\n",
              "      <th>50%</th>\n",
              "      <th>75%</th>\n",
              "      <th>max</th>\n",
              "    </tr>\n",
              "  </thead>\n",
              "  <tbody>\n",
              "    <tr>\n",
              "      <th>Age</th>\n",
              "      <td>39753.0</td>\n",
              "      <td>25.872186</td>\n",
              "      <td>5.873926</td>\n",
              "      <td>10.0</td>\n",
              "      <td>22.0</td>\n",
              "      <td>25.0</td>\n",
              "      <td>29.0</td>\n",
              "      <td>73.0</td>\n",
              "    </tr>\n",
              "    <tr>\n",
              "      <th>Height</th>\n",
              "      <td>39753.0</td>\n",
              "      <td>178.086082</td>\n",
              "      <td>9.679591</td>\n",
              "      <td>136.0</td>\n",
              "      <td>172.0</td>\n",
              "      <td>180.0</td>\n",
              "      <td>183.0</td>\n",
              "      <td>223.0</td>\n",
              "    </tr>\n",
              "    <tr>\n",
              "      <th>Weight</th>\n",
              "      <td>39753.0</td>\n",
              "      <td>72.951496</td>\n",
              "      <td>13.158073</td>\n",
              "      <td>28.0</td>\n",
              "      <td>66.5</td>\n",
              "      <td>70.0</td>\n",
              "      <td>79.0</td>\n",
              "      <td>182.0</td>\n",
              "    </tr>\n",
              "    <tr>\n",
              "      <th>Year</th>\n",
              "      <td>39753.0</td>\n",
              "      <td>1973.939627</td>\n",
              "      <td>33.827805</td>\n",
              "      <td>1896.0</td>\n",
              "      <td>1952.0</td>\n",
              "      <td>1984.0</td>\n",
              "      <td>2002.0</td>\n",
              "      <td>2016.0</td>\n",
              "    </tr>\n",
              "  </tbody>\n",
              "</table>\n",
              "</div>"
            ],
            "text/plain": [
              "          count         mean        std     min     25%     50%     75%     max\n",
              "Age     39753.0    25.872186   5.873926    10.0    22.0    25.0    29.0    73.0\n",
              "Height  39753.0   178.086082   9.679591   136.0   172.0   180.0   183.0   223.0\n",
              "Weight  39753.0    72.951496  13.158073    28.0    66.5    70.0    79.0   182.0\n",
              "Year    39753.0  1973.939627  33.827805  1896.0  1952.0  1984.0  2002.0  2016.0"
            ]
          },
          "metadata": {},
          "execution_count": 162
        }
      ]
    },
    {
      "cell_type": "markdown",
      "metadata": {
        "id": "MWVg03sEg4_O"
      },
      "source": [
        "## **Análise dos dados**"
      ]
    },
    {
      "cell_type": "markdown",
      "metadata": {
        "id": "YKvyPvRbhCNn"
      },
      "source": [
        "Agora que a limpeza dos dados já foi realizada, começarei a analisar possíveis padrões e/ou algumas informações interessantes entre os atletas que já ganharam medalhas."
      ]
    },
    {
      "cell_type": "code",
      "metadata": {
        "id": "3TAag2DlhNgF",
        "colab": {
          "base_uri": "https://localhost:8080/",
          "height": 398
        },
        "outputId": "8dcf0b18-152a-44b4-8c06-b7c633faa838"
      },
      "source": [
        "df.head()"
      ],
      "execution_count": 163,
      "outputs": [
        {
          "output_type": "execute_result",
          "data": {
            "text/html": [
              "<div>\n",
              "<style scoped>\n",
              "    .dataframe tbody tr th:only-of-type {\n",
              "        vertical-align: middle;\n",
              "    }\n",
              "\n",
              "    .dataframe tbody tr th {\n",
              "        vertical-align: top;\n",
              "    }\n",
              "\n",
              "    .dataframe thead th {\n",
              "        text-align: right;\n",
              "    }\n",
              "</style>\n",
              "<table border=\"1\" class=\"dataframe\">\n",
              "  <thead>\n",
              "    <tr style=\"text-align: right;\">\n",
              "      <th></th>\n",
              "      <th>Name</th>\n",
              "      <th>Sex</th>\n",
              "      <th>Age</th>\n",
              "      <th>Height</th>\n",
              "      <th>Weight</th>\n",
              "      <th>Team</th>\n",
              "      <th>NOC</th>\n",
              "      <th>Games</th>\n",
              "      <th>Year</th>\n",
              "      <th>Season</th>\n",
              "      <th>City</th>\n",
              "      <th>Sport</th>\n",
              "      <th>Event</th>\n",
              "      <th>Medal</th>\n",
              "    </tr>\n",
              "    <tr>\n",
              "      <th>Athlete_ID</th>\n",
              "      <th></th>\n",
              "      <th></th>\n",
              "      <th></th>\n",
              "      <th></th>\n",
              "      <th></th>\n",
              "      <th></th>\n",
              "      <th></th>\n",
              "      <th></th>\n",
              "      <th></th>\n",
              "      <th></th>\n",
              "      <th></th>\n",
              "      <th></th>\n",
              "      <th></th>\n",
              "      <th></th>\n",
              "    </tr>\n",
              "  </thead>\n",
              "  <tbody>\n",
              "    <tr>\n",
              "      <th>4</th>\n",
              "      <td>Edgar Lindenau Aabye</td>\n",
              "      <td>MALE</td>\n",
              "      <td>34.0</td>\n",
              "      <td>180.0</td>\n",
              "      <td>70.0</td>\n",
              "      <td>Denmark/Sweden</td>\n",
              "      <td>DEN</td>\n",
              "      <td>1900 Summer</td>\n",
              "      <td>1900</td>\n",
              "      <td>Summer</td>\n",
              "      <td>Paris</td>\n",
              "      <td>Tug-Of-War</td>\n",
              "      <td>Tug-Of-War Men's Tug-Of-War</td>\n",
              "      <td>Gold</td>\n",
              "    </tr>\n",
              "    <tr>\n",
              "      <th>15</th>\n",
              "      <td>Arvo Ossian Aaltonen</td>\n",
              "      <td>MALE</td>\n",
              "      <td>30.0</td>\n",
              "      <td>180.0</td>\n",
              "      <td>70.0</td>\n",
              "      <td>Finland</td>\n",
              "      <td>FIN</td>\n",
              "      <td>1920 Summer</td>\n",
              "      <td>1920</td>\n",
              "      <td>Summer</td>\n",
              "      <td>Antwerpen</td>\n",
              "      <td>Swimming</td>\n",
              "      <td>Swimming Men's 200 metres Breaststroke</td>\n",
              "      <td>Bronze</td>\n",
              "    </tr>\n",
              "    <tr>\n",
              "      <th>15</th>\n",
              "      <td>Arvo Ossian Aaltonen</td>\n",
              "      <td>MALE</td>\n",
              "      <td>30.0</td>\n",
              "      <td>180.0</td>\n",
              "      <td>70.0</td>\n",
              "      <td>Finland</td>\n",
              "      <td>FIN</td>\n",
              "      <td>1920 Summer</td>\n",
              "      <td>1920</td>\n",
              "      <td>Summer</td>\n",
              "      <td>Antwerpen</td>\n",
              "      <td>Swimming</td>\n",
              "      <td>Swimming Men's 400 metres Breaststroke</td>\n",
              "      <td>Bronze</td>\n",
              "    </tr>\n",
              "    <tr>\n",
              "      <th>16</th>\n",
              "      <td>Juhamatti Tapio Aaltonen</td>\n",
              "      <td>MALE</td>\n",
              "      <td>28.0</td>\n",
              "      <td>184.0</td>\n",
              "      <td>85.0</td>\n",
              "      <td>Finland</td>\n",
              "      <td>FIN</td>\n",
              "      <td>2014 Winter</td>\n",
              "      <td>2014</td>\n",
              "      <td>Winter</td>\n",
              "      <td>Sochi</td>\n",
              "      <td>Ice Hockey</td>\n",
              "      <td>Ice Hockey Men's Ice Hockey</td>\n",
              "      <td>Bronze</td>\n",
              "    </tr>\n",
              "    <tr>\n",
              "      <th>17</th>\n",
              "      <td>Paavo Johannes Aaltonen</td>\n",
              "      <td>MALE</td>\n",
              "      <td>28.0</td>\n",
              "      <td>175.0</td>\n",
              "      <td>64.0</td>\n",
              "      <td>Finland</td>\n",
              "      <td>FIN</td>\n",
              "      <td>1948 Summer</td>\n",
              "      <td>1948</td>\n",
              "      <td>Summer</td>\n",
              "      <td>London</td>\n",
              "      <td>Gymnastics</td>\n",
              "      <td>Gymnastics Men's Individual All-Around</td>\n",
              "      <td>Bronze</td>\n",
              "    </tr>\n",
              "  </tbody>\n",
              "</table>\n",
              "</div>"
            ],
            "text/plain": [
              "                                Name  ...   Medal\n",
              "Athlete_ID                            ...        \n",
              "4               Edgar Lindenau Aabye  ...    Gold\n",
              "15              Arvo Ossian Aaltonen  ...  Bronze\n",
              "15              Arvo Ossian Aaltonen  ...  Bronze\n",
              "16          Juhamatti Tapio Aaltonen  ...  Bronze\n",
              "17           Paavo Johannes Aaltonen  ...  Bronze\n",
              "\n",
              "[5 rows x 14 columns]"
            ]
          },
          "metadata": {},
          "execution_count": 163
        }
      ]
    },
    {
      "cell_type": "code",
      "metadata": {
        "colab": {
          "base_uri": "https://localhost:8080/",
          "height": 171
        },
        "id": "Nxz_iMdZs_Xq",
        "outputId": "0bd5a041-ab69-48e0-84e4-a12d4f654d40"
      },
      "source": [
        "df.describe(include=['object'])"
      ],
      "execution_count": 164,
      "outputs": [
        {
          "output_type": "execute_result",
          "data": {
            "text/html": [
              "<div>\n",
              "<style scoped>\n",
              "    .dataframe tbody tr th:only-of-type {\n",
              "        vertical-align: middle;\n",
              "    }\n",
              "\n",
              "    .dataframe tbody tr th {\n",
              "        vertical-align: top;\n",
              "    }\n",
              "\n",
              "    .dataframe thead th {\n",
              "        text-align: right;\n",
              "    }\n",
              "</style>\n",
              "<table border=\"1\" class=\"dataframe\">\n",
              "  <thead>\n",
              "    <tr style=\"text-align: right;\">\n",
              "      <th></th>\n",
              "      <th>Name</th>\n",
              "      <th>Sex</th>\n",
              "      <th>Team</th>\n",
              "      <th>NOC</th>\n",
              "      <th>Games</th>\n",
              "      <th>Season</th>\n",
              "      <th>City</th>\n",
              "      <th>Sport</th>\n",
              "      <th>Event</th>\n",
              "      <th>Medal</th>\n",
              "    </tr>\n",
              "  </thead>\n",
              "  <tbody>\n",
              "    <tr>\n",
              "      <th>count</th>\n",
              "      <td>39753</td>\n",
              "      <td>39753</td>\n",
              "      <td>39753</td>\n",
              "      <td>39753</td>\n",
              "      <td>39753</td>\n",
              "      <td>39753</td>\n",
              "      <td>39753</td>\n",
              "      <td>39753</td>\n",
              "      <td>39753</td>\n",
              "      <td>39753</td>\n",
              "    </tr>\n",
              "    <tr>\n",
              "      <th>unique</th>\n",
              "      <td>28192</td>\n",
              "      <td>2</td>\n",
              "      <td>499</td>\n",
              "      <td>149</td>\n",
              "      <td>51</td>\n",
              "      <td>2</td>\n",
              "      <td>42</td>\n",
              "      <td>66</td>\n",
              "      <td>756</td>\n",
              "      <td>3</td>\n",
              "    </tr>\n",
              "    <tr>\n",
              "      <th>top</th>\n",
              "      <td>Michael Fred Phelps, II</td>\n",
              "      <td>MALE</td>\n",
              "      <td>United States</td>\n",
              "      <td>USA</td>\n",
              "      <td>2008 Summer</td>\n",
              "      <td>Summer</td>\n",
              "      <td>London</td>\n",
              "      <td>Athletics</td>\n",
              "      <td>Football Men's Football</td>\n",
              "      <td>Gold</td>\n",
              "    </tr>\n",
              "    <tr>\n",
              "      <th>freq</th>\n",
              "      <td>28</td>\n",
              "      <td>28787</td>\n",
              "      <td>5208</td>\n",
              "      <td>5635</td>\n",
              "      <td>2044</td>\n",
              "      <td>34081</td>\n",
              "      <td>3730</td>\n",
              "      <td>3968</td>\n",
              "      <td>1269</td>\n",
              "      <td>13467</td>\n",
              "    </tr>\n",
              "  </tbody>\n",
              "</table>\n",
              "</div>"
            ],
            "text/plain": [
              "                           Name    Sex  ...                    Event  Medal\n",
              "count                     39753  39753  ...                    39753  39753\n",
              "unique                    28192      2  ...                      756      3\n",
              "top     Michael Fred Phelps, II   MALE  ...  Football Men's Football   Gold\n",
              "freq                         28  28787  ...                     1269  13467\n",
              "\n",
              "[4 rows x 10 columns]"
            ]
          },
          "metadata": {},
          "execution_count": 164
        }
      ]
    },
    {
      "cell_type": "code",
      "metadata": {
        "colab": {
          "base_uri": "https://localhost:8080/",
          "height": 171
        },
        "id": "vcP0EXHRtIKQ",
        "outputId": "b4fa4152-b4db-4ba7-d22b-7c5d0fcb0d0c"
      },
      "source": [
        "df.describe().T"
      ],
      "execution_count": 165,
      "outputs": [
        {
          "output_type": "execute_result",
          "data": {
            "text/html": [
              "<div>\n",
              "<style scoped>\n",
              "    .dataframe tbody tr th:only-of-type {\n",
              "        vertical-align: middle;\n",
              "    }\n",
              "\n",
              "    .dataframe tbody tr th {\n",
              "        vertical-align: top;\n",
              "    }\n",
              "\n",
              "    .dataframe thead th {\n",
              "        text-align: right;\n",
              "    }\n",
              "</style>\n",
              "<table border=\"1\" class=\"dataframe\">\n",
              "  <thead>\n",
              "    <tr style=\"text-align: right;\">\n",
              "      <th></th>\n",
              "      <th>count</th>\n",
              "      <th>mean</th>\n",
              "      <th>std</th>\n",
              "      <th>min</th>\n",
              "      <th>25%</th>\n",
              "      <th>50%</th>\n",
              "      <th>75%</th>\n",
              "      <th>max</th>\n",
              "    </tr>\n",
              "  </thead>\n",
              "  <tbody>\n",
              "    <tr>\n",
              "      <th>Age</th>\n",
              "      <td>39753.0</td>\n",
              "      <td>25.872186</td>\n",
              "      <td>5.873926</td>\n",
              "      <td>10.0</td>\n",
              "      <td>22.0</td>\n",
              "      <td>25.0</td>\n",
              "      <td>29.0</td>\n",
              "      <td>73.0</td>\n",
              "    </tr>\n",
              "    <tr>\n",
              "      <th>Height</th>\n",
              "      <td>39753.0</td>\n",
              "      <td>178.086082</td>\n",
              "      <td>9.679591</td>\n",
              "      <td>136.0</td>\n",
              "      <td>172.0</td>\n",
              "      <td>180.0</td>\n",
              "      <td>183.0</td>\n",
              "      <td>223.0</td>\n",
              "    </tr>\n",
              "    <tr>\n",
              "      <th>Weight</th>\n",
              "      <td>39753.0</td>\n",
              "      <td>72.951496</td>\n",
              "      <td>13.158073</td>\n",
              "      <td>28.0</td>\n",
              "      <td>66.5</td>\n",
              "      <td>70.0</td>\n",
              "      <td>79.0</td>\n",
              "      <td>182.0</td>\n",
              "    </tr>\n",
              "    <tr>\n",
              "      <th>Year</th>\n",
              "      <td>39753.0</td>\n",
              "      <td>1973.939627</td>\n",
              "      <td>33.827805</td>\n",
              "      <td>1896.0</td>\n",
              "      <td>1952.0</td>\n",
              "      <td>1984.0</td>\n",
              "      <td>2002.0</td>\n",
              "      <td>2016.0</td>\n",
              "    </tr>\n",
              "  </tbody>\n",
              "</table>\n",
              "</div>"
            ],
            "text/plain": [
              "          count         mean        std     min     25%     50%     75%     max\n",
              "Age     39753.0    25.872186   5.873926    10.0    22.0    25.0    29.0    73.0\n",
              "Height  39753.0   178.086082   9.679591   136.0   172.0   180.0   183.0   223.0\n",
              "Weight  39753.0    72.951496  13.158073    28.0    66.5    70.0    79.0   182.0\n",
              "Year    39753.0  1973.939627  33.827805  1896.0  1952.0  1984.0  2002.0  2016.0"
            ]
          },
          "metadata": {},
          "execution_count": 165
        }
      ]
    },
    {
      "cell_type": "markdown",
      "metadata": {
        "id": "6Fbkrk_czMTl"
      },
      "source": [
        "### Sexo dos atletas"
      ]
    },
    {
      "cell_type": "code",
      "metadata": {
        "colab": {
          "base_uri": "https://localhost:8080/",
          "height": 517
        },
        "id": "-vugCfgBzPIr",
        "outputId": "b108c4ef-1317-48b4-9ec8-86aa56252a07"
      },
      "source": [
        "plt.figure(figsize=(10,8))\n",
        "sns.countplot(x=df['Sex'])\n",
        "sns.set_theme(style='darkgrid')\n",
        "plt.title('Sexo dos Atletas Olímpicos')\n",
        "plt.xlabel('Sexo')\n",
        "plt.ylabel('Número de ocorrência')\n",
        "plt.show()"
      ],
      "execution_count": 166,
      "outputs": [
        {
          "output_type": "display_data",
          "data": {
            "image/png": "[encoded data removed]",
            "text/plain": [
              "<Figure size 720x576 with 1 Axes>"
            ]
          },
          "metadata": {}
        }
      ]
    },
    {
      "cell_type": "markdown",
      "metadata": {
        "id": "kAa_q18RzW67"
      },
      "source": [
        "No gráfico, verifica-se que, entre os que ganharam medalhas, os homens configuram-se como maioria. "
      ]
    },
    {
      "cell_type": "markdown",
      "metadata": {
        "id": "fg95RZoGD7Ir"
      },
      "source": [
        "###Mulheres nas olimpíadas"
      ]
    },
    {
      "cell_type": "code",
      "metadata": {
        "colab": {
          "base_uri": "https://localhost:8080/",
          "height": 664
        },
        "id": "kW8L9rAwD-ho",
        "outputId": "e861ee09-6c02-42d3-8955-0625bea59252"
      },
      "source": [
        "mulheres = df[(df.Sex=='FEMALE')&(df.Season=='Summer')]\n",
        "\n",
        "sns.set(style='darkgrid')\n",
        "plt.figure(figsize=(15,10))\n",
        "plt.xticks(rotation=75)\n",
        "sns.countplot(x='Year',data=mulheres, palette='Spectral')\n",
        "plt.xlabel('Ano')\n",
        "plt.ylabel('Quantidade de Atletas')\n",
        "plt.title('Participação Feminina nas Olimpíadas')"
      ],
      "execution_count": 186,
      "outputs": [
        {
          "output_type": "execute_result",
          "data": {
            "text/plain": [
              "Text(0.5, 1.0, 'Participação Feminina nas Olimpíadas')"
            ]
          },
          "metadata": {},
          "execution_count": 186
        },
        {
          "output_type": "display_data",
          "data": {
            "image/png": "[encoded data removed]",
            "text/plain": [
              "<Figure size 1080x720 with 1 Axes>"
            ]
          },
          "metadata": {}
        }
      ]
    },
    {
      "cell_type": "markdown",
      "metadata": {
        "id": "cKRw1t4Nudb5"
      },
      "source": [
        "Aqui, percebemos que, com o passar das olimpíadas, cresceu a participação feminina no evento."
      ]
    },
    {
      "cell_type": "markdown",
      "metadata": {
        "id": "f-dryz7n1Y2K"
      },
      "source": [
        "###Média de idade, por sexo, em cada medalha."
      ]
    },
    {
      "cell_type": "code",
      "metadata": {
        "colab": {
          "base_uri": "https://localhost:8080/",
          "height": 263
        },
        "id": "cXpupfm15Hjn",
        "outputId": "4ab17fd0-226a-4f17-f490-57360337b8c3"
      },
      "source": [
        "df.groupby(['Sex','Medal']).agg({'Age': np.mean})"
      ],
      "execution_count": 232,
      "outputs": [
        {
          "output_type": "execute_result",
          "data": {
            "text/html": [
              "<div>\n",
              "<style scoped>\n",
              "    .dataframe tbody tr th:only-of-type {\n",
              "        vertical-align: middle;\n",
              "    }\n",
              "\n",
              "    .dataframe tbody tr th {\n",
              "        vertical-align: top;\n",
              "    }\n",
              "\n",
              "    .dataframe thead th {\n",
              "        text-align: right;\n",
              "    }\n",
              "</style>\n",
              "<table border=\"1\" class=\"dataframe\">\n",
              "  <thead>\n",
              "    <tr style=\"text-align: right;\">\n",
              "      <th></th>\n",
              "      <th></th>\n",
              "      <th>Age</th>\n",
              "    </tr>\n",
              "    <tr>\n",
              "      <th>Sex</th>\n",
              "      <th>Medal</th>\n",
              "      <th></th>\n",
              "    </tr>\n",
              "  </thead>\n",
              "  <tbody>\n",
              "    <tr>\n",
              "      <th rowspan=\"3\" valign=\"top\">FEMALE</th>\n",
              "      <th>Bronze</th>\n",
              "      <td>24.637969</td>\n",
              "    </tr>\n",
              "    <tr>\n",
              "      <th>Gold</th>\n",
              "      <td>24.193077</td>\n",
              "    </tr>\n",
              "    <tr>\n",
              "      <th>Silver</th>\n",
              "      <td>24.403670</td>\n",
              "    </tr>\n",
              "    <tr>\n",
              "      <th rowspan=\"3\" valign=\"top\">MALE</th>\n",
              "      <th>Bronze</th>\n",
              "      <td>26.075147</td>\n",
              "    </tr>\n",
              "    <tr>\n",
              "      <th>Gold</th>\n",
              "      <td>26.263638</td>\n",
              "    </tr>\n",
              "    <tr>\n",
              "      <th>Silver</th>\n",
              "      <td>26.360253</td>\n",
              "    </tr>\n",
              "  </tbody>\n",
              "</table>\n",
              "</div>"
            ],
            "text/plain": [
              "                     Age\n",
              "Sex    Medal            \n",
              "FEMALE Bronze  24.637969\n",
              "       Gold    24.193077\n",
              "       Silver  24.403670\n",
              "MALE   Bronze  26.075147\n",
              "       Gold    26.263638\n",
              "       Silver  26.360253"
            ]
          },
          "metadata": {},
          "execution_count": 232
        }
      ]
    },
    {
      "cell_type": "markdown",
      "metadata": {
        "id": "PdCJbrZDv65V"
      },
      "source": [
        "###Pessoa que mais ganhou medalhas\n",
        "\n",
        "Como já sei que foi o Michael Fred Phelps porque está na tabela com os dados categóricos, só irei ver mais de perto a quantidade."
      ]
    },
    {
      "cell_type": "code",
      "metadata": {
        "colab": {
          "base_uri": "https://localhost:8080/",
          "height": 1000
        },
        "id": "qJ72D1rCv-Ku",
        "outputId": "bd4118f7-9200-4902-af52-7853b0706acc"
      },
      "source": [
        "df_topmedalha = df[df[\"Name\"] == \"Michael Fred Phelps, II\"]\n",
        "df_topmedalha"
      ],
      "execution_count": 169,
      "outputs": [
        {
          "output_type": "execute_result",
          "data": {
            "text/html": [
              "<div>\n",
              "<style scoped>\n",
              "    .dataframe tbody tr th:only-of-type {\n",
              "        vertical-align: middle;\n",
              "    }\n",
              "\n",
              "    .dataframe tbody tr th {\n",
              "        vertical-align: top;\n",
              "    }\n",
              "\n",
              "    .dataframe thead th {\n",
              "        text-align: right;\n",
              "    }\n",
              "</style>\n",
              "<table border=\"1\" class=\"dataframe\">\n",
              "  <thead>\n",
              "    <tr style=\"text-align: right;\">\n",
              "      <th></th>\n",
              "      <th>Name</th>\n",
              "      <th>Sex</th>\n",
              "      <th>Age</th>\n",
              "      <th>Height</th>\n",
              "      <th>Weight</th>\n",
              "      <th>Team</th>\n",
              "      <th>NOC</th>\n",
              "      <th>Games</th>\n",
              "      <th>Year</th>\n",
              "      <th>Season</th>\n",
              "      <th>City</th>\n",
              "      <th>Sport</th>\n",
              "      <th>Event</th>\n",
              "      <th>Medal</th>\n",
              "    </tr>\n",
              "    <tr>\n",
              "      <th>Athlete_ID</th>\n",
              "      <th></th>\n",
              "      <th></th>\n",
              "      <th></th>\n",
              "      <th></th>\n",
              "      <th></th>\n",
              "      <th></th>\n",
              "      <th></th>\n",
              "      <th></th>\n",
              "      <th></th>\n",
              "      <th></th>\n",
              "      <th></th>\n",
              "      <th></th>\n",
              "      <th></th>\n",
              "      <th></th>\n",
              "    </tr>\n",
              "  </thead>\n",
              "  <tbody>\n",
              "    <tr>\n",
              "      <th>94406</th>\n",
              "      <td>Michael Fred Phelps, II</td>\n",
              "      <td>MALE</td>\n",
              "      <td>19.0</td>\n",
              "      <td>193.0</td>\n",
              "      <td>91.0</td>\n",
              "      <td>United States</td>\n",
              "      <td>USA</td>\n",
              "      <td>2004 Summer</td>\n",
              "      <td>2004</td>\n",
              "      <td>Summer</td>\n",
              "      <td>Athina</td>\n",
              "      <td>Swimming</td>\n",
              "      <td>Swimming Men's 200 metres Freestyle</td>\n",
              "      <td>Bronze</td>\n",
              "    </tr>\n",
              "    <tr>\n",
              "      <th>94406</th>\n",
              "      <td>Michael Fred Phelps, II</td>\n",
              "      <td>MALE</td>\n",
              "      <td>19.0</td>\n",
              "      <td>193.0</td>\n",
              "      <td>91.0</td>\n",
              "      <td>United States</td>\n",
              "      <td>USA</td>\n",
              "      <td>2004 Summer</td>\n",
              "      <td>2004</td>\n",
              "      <td>Summer</td>\n",
              "      <td>Athina</td>\n",
              "      <td>Swimming</td>\n",
              "      <td>Swimming Men's 4 x 100 metres Freestyle Relay</td>\n",
              "      <td>Bronze</td>\n",
              "    </tr>\n",
              "    <tr>\n",
              "      <th>94406</th>\n",
              "      <td>Michael Fred Phelps, II</td>\n",
              "      <td>MALE</td>\n",
              "      <td>19.0</td>\n",
              "      <td>193.0</td>\n",
              "      <td>91.0</td>\n",
              "      <td>United States</td>\n",
              "      <td>USA</td>\n",
              "      <td>2004 Summer</td>\n",
              "      <td>2004</td>\n",
              "      <td>Summer</td>\n",
              "      <td>Athina</td>\n",
              "      <td>Swimming</td>\n",
              "      <td>Swimming Men's 4 x 200 metres Freestyle Relay</td>\n",
              "      <td>Gold</td>\n",
              "    </tr>\n",
              "    <tr>\n",
              "      <th>94406</th>\n",
              "      <td>Michael Fred Phelps, II</td>\n",
              "      <td>MALE</td>\n",
              "      <td>19.0</td>\n",
              "      <td>193.0</td>\n",
              "      <td>91.0</td>\n",
              "      <td>United States</td>\n",
              "      <td>USA</td>\n",
              "      <td>2004 Summer</td>\n",
              "      <td>2004</td>\n",
              "      <td>Summer</td>\n",
              "      <td>Athina</td>\n",
              "      <td>Swimming</td>\n",
              "      <td>Swimming Men's 100 metres Butterfly</td>\n",
              "      <td>Gold</td>\n",
              "    </tr>\n",
              "    <tr>\n",
              "      <th>94406</th>\n",
              "      <td>Michael Fred Phelps, II</td>\n",
              "      <td>MALE</td>\n",
              "      <td>19.0</td>\n",
              "      <td>193.0</td>\n",
              "      <td>91.0</td>\n",
              "      <td>United States</td>\n",
              "      <td>USA</td>\n",
              "      <td>2004 Summer</td>\n",
              "      <td>2004</td>\n",
              "      <td>Summer</td>\n",
              "      <td>Athina</td>\n",
              "      <td>Swimming</td>\n",
              "      <td>Swimming Men's 200 metres Butterfly</td>\n",
              "      <td>Gold</td>\n",
              "    </tr>\n",
              "    <tr>\n",
              "      <th>94406</th>\n",
              "      <td>Michael Fred Phelps, II</td>\n",
              "      <td>MALE</td>\n",
              "      <td>19.0</td>\n",
              "      <td>193.0</td>\n",
              "      <td>91.0</td>\n",
              "      <td>United States</td>\n",
              "      <td>USA</td>\n",
              "      <td>2004 Summer</td>\n",
              "      <td>2004</td>\n",
              "      <td>Summer</td>\n",
              "      <td>Athina</td>\n",
              "      <td>Swimming</td>\n",
              "      <td>Swimming Men's 200 metres Individual Medley</td>\n",
              "      <td>Gold</td>\n",
              "    </tr>\n",
              "    <tr>\n",
              "      <th>94406</th>\n",
              "      <td>Michael Fred Phelps, II</td>\n",
              "      <td>MALE</td>\n",
              "      <td>19.0</td>\n",
              "      <td>193.0</td>\n",
              "      <td>91.0</td>\n",
              "      <td>United States</td>\n",
              "      <td>USA</td>\n",
              "      <td>2004 Summer</td>\n",
              "      <td>2004</td>\n",
              "      <td>Summer</td>\n",
              "      <td>Athina</td>\n",
              "      <td>Swimming</td>\n",
              "      <td>Swimming Men's 400 metres Individual Medley</td>\n",
              "      <td>Gold</td>\n",
              "    </tr>\n",
              "    <tr>\n",
              "      <th>94406</th>\n",
              "      <td>Michael Fred Phelps, II</td>\n",
              "      <td>MALE</td>\n",
              "      <td>19.0</td>\n",
              "      <td>193.0</td>\n",
              "      <td>91.0</td>\n",
              "      <td>United States</td>\n",
              "      <td>USA</td>\n",
              "      <td>2004 Summer</td>\n",
              "      <td>2004</td>\n",
              "      <td>Summer</td>\n",
              "      <td>Athina</td>\n",
              "      <td>Swimming</td>\n",
              "      <td>Swimming Men's 4 x 100 metres Medley Relay</td>\n",
              "      <td>Gold</td>\n",
              "    </tr>\n",
              "    <tr>\n",
              "      <th>94406</th>\n",
              "      <td>Michael Fred Phelps, II</td>\n",
              "      <td>MALE</td>\n",
              "      <td>23.0</td>\n",
              "      <td>193.0</td>\n",
              "      <td>91.0</td>\n",
              "      <td>United States</td>\n",
              "      <td>USA</td>\n",
              "      <td>2008 Summer</td>\n",
              "      <td>2008</td>\n",
              "      <td>Summer</td>\n",
              "      <td>Beijing</td>\n",
              "      <td>Swimming</td>\n",
              "      <td>Swimming Men's 200 metres Freestyle</td>\n",
              "      <td>Gold</td>\n",
              "    </tr>\n",
              "    <tr>\n",
              "      <th>94406</th>\n",
              "      <td>Michael Fred Phelps, II</td>\n",
              "      <td>MALE</td>\n",
              "      <td>23.0</td>\n",
              "      <td>193.0</td>\n",
              "      <td>91.0</td>\n",
              "      <td>United States</td>\n",
              "      <td>USA</td>\n",
              "      <td>2008 Summer</td>\n",
              "      <td>2008</td>\n",
              "      <td>Summer</td>\n",
              "      <td>Beijing</td>\n",
              "      <td>Swimming</td>\n",
              "      <td>Swimming Men's 4 x 100 metres Freestyle Relay</td>\n",
              "      <td>Gold</td>\n",
              "    </tr>\n",
              "    <tr>\n",
              "      <th>94406</th>\n",
              "      <td>Michael Fred Phelps, II</td>\n",
              "      <td>MALE</td>\n",
              "      <td>23.0</td>\n",
              "      <td>193.0</td>\n",
              "      <td>91.0</td>\n",
              "      <td>United States</td>\n",
              "      <td>USA</td>\n",
              "      <td>2008 Summer</td>\n",
              "      <td>2008</td>\n",
              "      <td>Summer</td>\n",
              "      <td>Beijing</td>\n",
              "      <td>Swimming</td>\n",
              "      <td>Swimming Men's 4 x 200 metres Freestyle Relay</td>\n",
              "      <td>Gold</td>\n",
              "    </tr>\n",
              "    <tr>\n",
              "      <th>94406</th>\n",
              "      <td>Michael Fred Phelps, II</td>\n",
              "      <td>MALE</td>\n",
              "      <td>23.0</td>\n",
              "      <td>193.0</td>\n",
              "      <td>91.0</td>\n",
              "      <td>United States</td>\n",
              "      <td>USA</td>\n",
              "      <td>2008 Summer</td>\n",
              "      <td>2008</td>\n",
              "      <td>Summer</td>\n",
              "      <td>Beijing</td>\n",
              "      <td>Swimming</td>\n",
              "      <td>Swimming Men's 100 metres Butterfly</td>\n",
              "      <td>Gold</td>\n",
              "    </tr>\n",
              "    <tr>\n",
              "      <th>94406</th>\n",
              "      <td>Michael Fred Phelps, II</td>\n",
              "      <td>MALE</td>\n",
              "      <td>23.0</td>\n",
              "      <td>193.0</td>\n",
              "      <td>91.0</td>\n",
              "      <td>United States</td>\n",
              "      <td>USA</td>\n",
              "      <td>2008 Summer</td>\n",
              "      <td>2008</td>\n",
              "      <td>Summer</td>\n",
              "      <td>Beijing</td>\n",
              "      <td>Swimming</td>\n",
              "      <td>Swimming Men's 200 metres Butterfly</td>\n",
              "      <td>Gold</td>\n",
              "    </tr>\n",
              "    <tr>\n",
              "      <th>94406</th>\n",
              "      <td>Michael Fred Phelps, II</td>\n",
              "      <td>MALE</td>\n",
              "      <td>23.0</td>\n",
              "      <td>193.0</td>\n",
              "      <td>91.0</td>\n",
              "      <td>United States</td>\n",
              "      <td>USA</td>\n",
              "      <td>2008 Summer</td>\n",
              "      <td>2008</td>\n",
              "      <td>Summer</td>\n",
              "      <td>Beijing</td>\n",
              "      <td>Swimming</td>\n",
              "      <td>Swimming Men's 200 metres Individual Medley</td>\n",
              "      <td>Gold</td>\n",
              "    </tr>\n",
              "    <tr>\n",
              "      <th>94406</th>\n",
              "      <td>Michael Fred Phelps, II</td>\n",
              "      <td>MALE</td>\n",
              "      <td>23.0</td>\n",
              "      <td>193.0</td>\n",
              "      <td>91.0</td>\n",
              "      <td>United States</td>\n",
              "      <td>USA</td>\n",
              "      <td>2008 Summer</td>\n",
              "      <td>2008</td>\n",
              "      <td>Summer</td>\n",
              "      <td>Beijing</td>\n",
              "      <td>Swimming</td>\n",
              "      <td>Swimming Men's 400 metres Individual Medley</td>\n",
              "      <td>Gold</td>\n",
              "    </tr>\n",
              "    <tr>\n",
              "      <th>94406</th>\n",
              "      <td>Michael Fred Phelps, II</td>\n",
              "      <td>MALE</td>\n",
              "      <td>23.0</td>\n",
              "      <td>193.0</td>\n",
              "      <td>91.0</td>\n",
              "      <td>United States</td>\n",
              "      <td>USA</td>\n",
              "      <td>2008 Summer</td>\n",
              "      <td>2008</td>\n",
              "      <td>Summer</td>\n",
              "      <td>Beijing</td>\n",
              "      <td>Swimming</td>\n",
              "      <td>Swimming Men's 4 x 100 metres Medley Relay</td>\n",
              "      <td>Gold</td>\n",
              "    </tr>\n",
              "    <tr>\n",
              "      <th>94406</th>\n",
              "      <td>Michael Fred Phelps, II</td>\n",
              "      <td>MALE</td>\n",
              "      <td>27.0</td>\n",
              "      <td>193.0</td>\n",
              "      <td>91.0</td>\n",
              "      <td>United States</td>\n",
              "      <td>USA</td>\n",
              "      <td>2012 Summer</td>\n",
              "      <td>2012</td>\n",
              "      <td>Summer</td>\n",
              "      <td>London</td>\n",
              "      <td>Swimming</td>\n",
              "      <td>Swimming Men's 4 x 100 metres Freestyle Relay</td>\n",
              "      <td>Silver</td>\n",
              "    </tr>\n",
              "    <tr>\n",
              "      <th>94406</th>\n",
              "      <td>Michael Fred Phelps, II</td>\n",
              "      <td>MALE</td>\n",
              "      <td>27.0</td>\n",
              "      <td>193.0</td>\n",
              "      <td>91.0</td>\n",
              "      <td>United States</td>\n",
              "      <td>USA</td>\n",
              "      <td>2012 Summer</td>\n",
              "      <td>2012</td>\n",
              "      <td>Summer</td>\n",
              "      <td>London</td>\n",
              "      <td>Swimming</td>\n",
              "      <td>Swimming Men's 4 x 200 metres Freestyle Relay</td>\n",
              "      <td>Gold</td>\n",
              "    </tr>\n",
              "    <tr>\n",
              "      <th>94406</th>\n",
              "      <td>Michael Fred Phelps, II</td>\n",
              "      <td>MALE</td>\n",
              "      <td>27.0</td>\n",
              "      <td>193.0</td>\n",
              "      <td>91.0</td>\n",
              "      <td>United States</td>\n",
              "      <td>USA</td>\n",
              "      <td>2012 Summer</td>\n",
              "      <td>2012</td>\n",
              "      <td>Summer</td>\n",
              "      <td>London</td>\n",
              "      <td>Swimming</td>\n",
              "      <td>Swimming Men's 100 metres Butterfly</td>\n",
              "      <td>Gold</td>\n",
              "    </tr>\n",
              "    <tr>\n",
              "      <th>94406</th>\n",
              "      <td>Michael Fred Phelps, II</td>\n",
              "      <td>MALE</td>\n",
              "      <td>27.0</td>\n",
              "      <td>193.0</td>\n",
              "      <td>91.0</td>\n",
              "      <td>United States</td>\n",
              "      <td>USA</td>\n",
              "      <td>2012 Summer</td>\n",
              "      <td>2012</td>\n",
              "      <td>Summer</td>\n",
              "      <td>London</td>\n",
              "      <td>Swimming</td>\n",
              "      <td>Swimming Men's 200 metres Butterfly</td>\n",
              "      <td>Silver</td>\n",
              "    </tr>\n",
              "    <tr>\n",
              "      <th>94406</th>\n",
              "      <td>Michael Fred Phelps, II</td>\n",
              "      <td>MALE</td>\n",
              "      <td>27.0</td>\n",
              "      <td>193.0</td>\n",
              "      <td>91.0</td>\n",
              "      <td>United States</td>\n",
              "      <td>USA</td>\n",
              "      <td>2012 Summer</td>\n",
              "      <td>2012</td>\n",
              "      <td>Summer</td>\n",
              "      <td>London</td>\n",
              "      <td>Swimming</td>\n",
              "      <td>Swimming Men's 200 metres Individual Medley</td>\n",
              "      <td>Gold</td>\n",
              "    </tr>\n",
              "    <tr>\n",
              "      <th>94406</th>\n",
              "      <td>Michael Fred Phelps, II</td>\n",
              "      <td>MALE</td>\n",
              "      <td>27.0</td>\n",
              "      <td>193.0</td>\n",
              "      <td>91.0</td>\n",
              "      <td>United States</td>\n",
              "      <td>USA</td>\n",
              "      <td>2012 Summer</td>\n",
              "      <td>2012</td>\n",
              "      <td>Summer</td>\n",
              "      <td>London</td>\n",
              "      <td>Swimming</td>\n",
              "      <td>Swimming Men's 4 x 100 metres Medley Relay</td>\n",
              "      <td>Gold</td>\n",
              "    </tr>\n",
              "    <tr>\n",
              "      <th>94406</th>\n",
              "      <td>Michael Fred Phelps, II</td>\n",
              "      <td>MALE</td>\n",
              "      <td>31.0</td>\n",
              "      <td>193.0</td>\n",
              "      <td>91.0</td>\n",
              "      <td>United States</td>\n",
              "      <td>USA</td>\n",
              "      <td>2016 Summer</td>\n",
              "      <td>2016</td>\n",
              "      <td>Summer</td>\n",
              "      <td>Rio de Janeiro</td>\n",
              "      <td>Swimming</td>\n",
              "      <td>Swimming Men's 4 x 100 metres Freestyle Relay</td>\n",
              "      <td>Gold</td>\n",
              "    </tr>\n",
              "    <tr>\n",
              "      <th>94406</th>\n",
              "      <td>Michael Fred Phelps, II</td>\n",
              "      <td>MALE</td>\n",
              "      <td>31.0</td>\n",
              "      <td>193.0</td>\n",
              "      <td>91.0</td>\n",
              "      <td>United States</td>\n",
              "      <td>USA</td>\n",
              "      <td>2016 Summer</td>\n",
              "      <td>2016</td>\n",
              "      <td>Summer</td>\n",
              "      <td>Rio de Janeiro</td>\n",
              "      <td>Swimming</td>\n",
              "      <td>Swimming Men's 4 x 200 metres Freestyle Relay</td>\n",
              "      <td>Gold</td>\n",
              "    </tr>\n",
              "    <tr>\n",
              "      <th>94406</th>\n",
              "      <td>Michael Fred Phelps, II</td>\n",
              "      <td>MALE</td>\n",
              "      <td>31.0</td>\n",
              "      <td>193.0</td>\n",
              "      <td>91.0</td>\n",
              "      <td>United States</td>\n",
              "      <td>USA</td>\n",
              "      <td>2016 Summer</td>\n",
              "      <td>2016</td>\n",
              "      <td>Summer</td>\n",
              "      <td>Rio de Janeiro</td>\n",
              "      <td>Swimming</td>\n",
              "      <td>Swimming Men's 100 metres Butterfly</td>\n",
              "      <td>Silver</td>\n",
              "    </tr>\n",
              "    <tr>\n",
              "      <th>94406</th>\n",
              "      <td>Michael Fred Phelps, II</td>\n",
              "      <td>MALE</td>\n",
              "      <td>31.0</td>\n",
              "      <td>193.0</td>\n",
              "      <td>91.0</td>\n",
              "      <td>United States</td>\n",
              "      <td>USA</td>\n",
              "      <td>2016 Summer</td>\n",
              "      <td>2016</td>\n",
              "      <td>Summer</td>\n",
              "      <td>Rio de Janeiro</td>\n",
              "      <td>Swimming</td>\n",
              "      <td>Swimming Men's 200 metres Butterfly</td>\n",
              "      <td>Gold</td>\n",
              "    </tr>\n",
              "    <tr>\n",
              "      <th>94406</th>\n",
              "      <td>Michael Fred Phelps, II</td>\n",
              "      <td>MALE</td>\n",
              "      <td>31.0</td>\n",
              "      <td>193.0</td>\n",
              "      <td>91.0</td>\n",
              "      <td>United States</td>\n",
              "      <td>USA</td>\n",
              "      <td>2016 Summer</td>\n",
              "      <td>2016</td>\n",
              "      <td>Summer</td>\n",
              "      <td>Rio de Janeiro</td>\n",
              "      <td>Swimming</td>\n",
              "      <td>Swimming Men's 200 metres Individual Medley</td>\n",
              "      <td>Gold</td>\n",
              "    </tr>\n",
              "    <tr>\n",
              "      <th>94406</th>\n",
              "      <td>Michael Fred Phelps, II</td>\n",
              "      <td>MALE</td>\n",
              "      <td>31.0</td>\n",
              "      <td>193.0</td>\n",
              "      <td>91.0</td>\n",
              "      <td>United States</td>\n",
              "      <td>USA</td>\n",
              "      <td>2016 Summer</td>\n",
              "      <td>2016</td>\n",
              "      <td>Summer</td>\n",
              "      <td>Rio de Janeiro</td>\n",
              "      <td>Swimming</td>\n",
              "      <td>Swimming Men's 4 x 100 metres Medley Relay</td>\n",
              "      <td>Gold</td>\n",
              "    </tr>\n",
              "  </tbody>\n",
              "</table>\n",
              "</div>"
            ],
            "text/plain": [
              "                               Name  ...   Medal\n",
              "Athlete_ID                           ...        \n",
              "94406       Michael Fred Phelps, II  ...  Bronze\n",
              "94406       Michael Fred Phelps, II  ...  Bronze\n",
              "94406       Michael Fred Phelps, II  ...    Gold\n",
              "94406       Michael Fred Phelps, II  ...    Gold\n",
              "94406       Michael Fred Phelps, II  ...    Gold\n",
              "94406       Michael Fred Phelps, II  ...    Gold\n",
              "94406       Michael Fred Phelps, II  ...    Gold\n",
              "94406       Michael Fred Phelps, II  ...    Gold\n",
              "94406       Michael Fred Phelps, II  ...    Gold\n",
              "94406       Michael Fred Phelps, II  ...    Gold\n",
              "94406       Michael Fred Phelps, II  ...    Gold\n",
              "94406       Michael Fred Phelps, II  ...    Gold\n",
              "94406       Michael Fred Phelps, II  ...    Gold\n",
              "94406       Michael Fred Phelps, II  ...    Gold\n",
              "94406       Michael Fred Phelps, II  ...    Gold\n",
              "94406       Michael Fred Phelps, II  ...    Gold\n",
              "94406       Michael Fred Phelps, II  ...  Silver\n",
              "94406       Michael Fred Phelps, II  ...    Gold\n",
              "94406       Michael Fred Phelps, II  ...    Gold\n",
              "94406       Michael Fred Phelps, II  ...  Silver\n",
              "94406       Michael Fred Phelps, II  ...    Gold\n",
              "94406       Michael Fred Phelps, II  ...    Gold\n",
              "94406       Michael Fred Phelps, II  ...    Gold\n",
              "94406       Michael Fred Phelps, II  ...    Gold\n",
              "94406       Michael Fred Phelps, II  ...  Silver\n",
              "94406       Michael Fred Phelps, II  ...    Gold\n",
              "94406       Michael Fred Phelps, II  ...    Gold\n",
              "94406       Michael Fred Phelps, II  ...    Gold\n",
              "\n",
              "[28 rows x 14 columns]"
            ]
          },
          "metadata": {},
          "execution_count": 169
        }
      ]
    },
    {
      "cell_type": "markdown",
      "metadata": {
        "id": "9aokybGzwcj1"
      },
      "source": [
        "Michael Fred Phelps foi a pessoa que mais ganhou medalhas na história das olimpíadas, totalizando 28."
      ]
    },
    {
      "cell_type": "markdown",
      "metadata": {
        "id": "L1cb-n56rfLn"
      },
      "source": [
        "###Pessoa mais alta e baixa a participar das olimpíada"
      ]
    },
    {
      "cell_type": "code",
      "metadata": {
        "colab": {
          "base_uri": "https://localhost:8080/",
          "height": 268
        },
        "id": "RqIuM_PxreWS",
        "outputId": "cff0ff57-b820-4f4f-a324-2aaef3ee62d7"
      },
      "source": [
        "max_valor = df[\"Height\"].max()\n",
        "df[df[\"Height\"] == max_valor]"
      ],
      "execution_count": 170,
      "outputs": [
        {
          "output_type": "execute_result",
          "data": {
            "text/html": [
              "<div>\n",
              "<style scoped>\n",
              "    .dataframe tbody tr th:only-of-type {\n",
              "        vertical-align: middle;\n",
              "    }\n",
              "\n",
              "    .dataframe tbody tr th {\n",
              "        vertical-align: top;\n",
              "    }\n",
              "\n",
              "    .dataframe thead th {\n",
              "        text-align: right;\n",
              "    }\n",
              "</style>\n",
              "<table border=\"1\" class=\"dataframe\">\n",
              "  <thead>\n",
              "    <tr style=\"text-align: right;\">\n",
              "      <th></th>\n",
              "      <th>Name</th>\n",
              "      <th>Sex</th>\n",
              "      <th>Age</th>\n",
              "      <th>Height</th>\n",
              "      <th>Weight</th>\n",
              "      <th>Team</th>\n",
              "      <th>NOC</th>\n",
              "      <th>Games</th>\n",
              "      <th>Year</th>\n",
              "      <th>Season</th>\n",
              "      <th>City</th>\n",
              "      <th>Sport</th>\n",
              "      <th>Event</th>\n",
              "      <th>Medal</th>\n",
              "    </tr>\n",
              "    <tr>\n",
              "      <th>Athlete_ID</th>\n",
              "      <th></th>\n",
              "      <th></th>\n",
              "      <th></th>\n",
              "      <th></th>\n",
              "      <th></th>\n",
              "      <th></th>\n",
              "      <th></th>\n",
              "      <th></th>\n",
              "      <th></th>\n",
              "      <th></th>\n",
              "      <th></th>\n",
              "      <th></th>\n",
              "      <th></th>\n",
              "      <th></th>\n",
              "    </tr>\n",
              "  </thead>\n",
              "  <tbody>\n",
              "    <tr>\n",
              "      <th>16639</th>\n",
              "      <td>Tommy Loren Burleson</td>\n",
              "      <td>MALE</td>\n",
              "      <td>20.0</td>\n",
              "      <td>223.0</td>\n",
              "      <td>102.0</td>\n",
              "      <td>United States</td>\n",
              "      <td>USA</td>\n",
              "      <td>1972 Summer</td>\n",
              "      <td>1972</td>\n",
              "      <td>Summer</td>\n",
              "      <td>Munich</td>\n",
              "      <td>Basketball</td>\n",
              "      <td>Basketball Men's Basketball</td>\n",
              "      <td>Silver</td>\n",
              "    </tr>\n",
              "    <tr>\n",
              "      <th>104059</th>\n",
              "      <td>Arvydas Romas Sabonis</td>\n",
              "      <td>MALE</td>\n",
              "      <td>23.0</td>\n",
              "      <td>223.0</td>\n",
              "      <td>122.0</td>\n",
              "      <td>Soviet Union</td>\n",
              "      <td>URS</td>\n",
              "      <td>1988 Summer</td>\n",
              "      <td>1988</td>\n",
              "      <td>Summer</td>\n",
              "      <td>Seoul</td>\n",
              "      <td>Basketball</td>\n",
              "      <td>Basketball Men's Basketball</td>\n",
              "      <td>Gold</td>\n",
              "    </tr>\n",
              "    <tr>\n",
              "      <th>104059</th>\n",
              "      <td>Arvydas Romas Sabonis</td>\n",
              "      <td>MALE</td>\n",
              "      <td>27.0</td>\n",
              "      <td>223.0</td>\n",
              "      <td>122.0</td>\n",
              "      <td>Lithuania</td>\n",
              "      <td>LTU</td>\n",
              "      <td>1992 Summer</td>\n",
              "      <td>1992</td>\n",
              "      <td>Summer</td>\n",
              "      <td>Barcelona</td>\n",
              "      <td>Basketball</td>\n",
              "      <td>Basketball Men's Basketball</td>\n",
              "      <td>Bronze</td>\n",
              "    </tr>\n",
              "    <tr>\n",
              "      <th>104059</th>\n",
              "      <td>Arvydas Romas Sabonis</td>\n",
              "      <td>MALE</td>\n",
              "      <td>31.0</td>\n",
              "      <td>223.0</td>\n",
              "      <td>122.0</td>\n",
              "      <td>Lithuania</td>\n",
              "      <td>LTU</td>\n",
              "      <td>1996 Summer</td>\n",
              "      <td>1996</td>\n",
              "      <td>Summer</td>\n",
              "      <td>Atlanta</td>\n",
              "      <td>Basketball</td>\n",
              "      <td>Basketball Men's Basketball</td>\n",
              "      <td>Bronze</td>\n",
              "    </tr>\n",
              "  </tbody>\n",
              "</table>\n",
              "</div>"
            ],
            "text/plain": [
              "                             Name   Sex  ...                        Event   Medal\n",
              "Athlete_ID                               ...                                     \n",
              "16639        Tommy Loren Burleson  MALE  ...  Basketball Men's Basketball  Silver\n",
              "104059      Arvydas Romas Sabonis  MALE  ...  Basketball Men's Basketball    Gold\n",
              "104059      Arvydas Romas Sabonis  MALE  ...  Basketball Men's Basketball  Bronze\n",
              "104059      Arvydas Romas Sabonis  MALE  ...  Basketball Men's Basketball  Bronze\n",
              "\n",
              "[4 rows x 14 columns]"
            ]
          },
          "metadata": {},
          "execution_count": 170
        }
      ]
    },
    {
      "cell_type": "markdown",
      "metadata": {
        "id": "w9I_-KB2r7AH"
      },
      "source": [
        "No caso, duas pessoas, com a mesma altura, foram as mais altas a participarem das olimpíadas: **Tommy Loren Burleson** e **Arvydas Romas Sabonis**, ambos do basquete."
      ]
    },
    {
      "cell_type": "code",
      "metadata": {
        "colab": {
          "base_uri": "https://localhost:8080/",
          "height": 448
        },
        "id": "No_JZhMcyXmM",
        "outputId": "8a236583-ee50-4e14-b4fe-d0c69afb5c60"
      },
      "source": [
        "min_valor = df[\"Height\"].min()\n",
        "df[df[\"Height\"] == min_valor]"
      ],
      "execution_count": 171,
      "outputs": [
        {
          "output_type": "execute_result",
          "data": {
            "text/html": [
              "<div>\n",
              "<style scoped>\n",
              "    .dataframe tbody tr th:only-of-type {\n",
              "        vertical-align: middle;\n",
              "    }\n",
              "\n",
              "    .dataframe tbody tr th {\n",
              "        vertical-align: top;\n",
              "    }\n",
              "\n",
              "    .dataframe thead th {\n",
              "        text-align: right;\n",
              "    }\n",
              "</style>\n",
              "<table border=\"1\" class=\"dataframe\">\n",
              "  <thead>\n",
              "    <tr style=\"text-align: right;\">\n",
              "      <th></th>\n",
              "      <th>Name</th>\n",
              "      <th>Sex</th>\n",
              "      <th>Age</th>\n",
              "      <th>Height</th>\n",
              "      <th>Weight</th>\n",
              "      <th>Team</th>\n",
              "      <th>NOC</th>\n",
              "      <th>Games</th>\n",
              "      <th>Year</th>\n",
              "      <th>Season</th>\n",
              "      <th>City</th>\n",
              "      <th>Sport</th>\n",
              "      <th>Event</th>\n",
              "      <th>Medal</th>\n",
              "    </tr>\n",
              "    <tr>\n",
              "      <th>Athlete_ID</th>\n",
              "      <th></th>\n",
              "      <th></th>\n",
              "      <th></th>\n",
              "      <th></th>\n",
              "      <th></th>\n",
              "      <th></th>\n",
              "      <th></th>\n",
              "      <th></th>\n",
              "      <th></th>\n",
              "      <th></th>\n",
              "      <th></th>\n",
              "      <th></th>\n",
              "      <th></th>\n",
              "      <th></th>\n",
              "    </tr>\n",
              "  </thead>\n",
              "  <tbody>\n",
              "    <tr>\n",
              "      <th>35292</th>\n",
              "      <td>Mariya Yevgenyevna Filatova (-Kurbatova)</td>\n",
              "      <td>FEMALE</td>\n",
              "      <td>14.0</td>\n",
              "      <td>136.0</td>\n",
              "      <td>30.0</td>\n",
              "      <td>Soviet Union</td>\n",
              "      <td>URS</td>\n",
              "      <td>1976 Summer</td>\n",
              "      <td>1976</td>\n",
              "      <td>Summer</td>\n",
              "      <td>Montreal</td>\n",
              "      <td>Gymnastics</td>\n",
              "      <td>Gymnastics Women's Team All-Around</td>\n",
              "      <td>Gold</td>\n",
              "    </tr>\n",
              "    <tr>\n",
              "      <th>35292</th>\n",
              "      <td>Mariya Yevgenyevna Filatova (-Kurbatova)</td>\n",
              "      <td>FEMALE</td>\n",
              "      <td>19.0</td>\n",
              "      <td>136.0</td>\n",
              "      <td>30.0</td>\n",
              "      <td>Soviet Union</td>\n",
              "      <td>URS</td>\n",
              "      <td>1980 Summer</td>\n",
              "      <td>1980</td>\n",
              "      <td>Summer</td>\n",
              "      <td>Moskva</td>\n",
              "      <td>Gymnastics</td>\n",
              "      <td>Gymnastics Women's Team All-Around</td>\n",
              "      <td>Gold</td>\n",
              "    </tr>\n",
              "    <tr>\n",
              "      <th>35292</th>\n",
              "      <td>Mariya Yevgenyevna Filatova (-Kurbatova)</td>\n",
              "      <td>FEMALE</td>\n",
              "      <td>19.0</td>\n",
              "      <td>136.0</td>\n",
              "      <td>30.0</td>\n",
              "      <td>Soviet Union</td>\n",
              "      <td>URS</td>\n",
              "      <td>1980 Summer</td>\n",
              "      <td>1980</td>\n",
              "      <td>Summer</td>\n",
              "      <td>Moskva</td>\n",
              "      <td>Gymnastics</td>\n",
              "      <td>Gymnastics Women's Uneven Bars</td>\n",
              "      <td>Bronze</td>\n",
              "    </tr>\n",
              "    <tr>\n",
              "      <th>71914</th>\n",
              "      <td>Lu Li</td>\n",
              "      <td>FEMALE</td>\n",
              "      <td>15.0</td>\n",
              "      <td>136.0</td>\n",
              "      <td>30.0</td>\n",
              "      <td>China</td>\n",
              "      <td>CHN</td>\n",
              "      <td>1992 Summer</td>\n",
              "      <td>1992</td>\n",
              "      <td>Summer</td>\n",
              "      <td>Barcelona</td>\n",
              "      <td>Gymnastics</td>\n",
              "      <td>Gymnastics Women's Uneven Bars</td>\n",
              "      <td>Gold</td>\n",
              "    </tr>\n",
              "    <tr>\n",
              "      <th>71914</th>\n",
              "      <td>Lu Li</td>\n",
              "      <td>FEMALE</td>\n",
              "      <td>15.0</td>\n",
              "      <td>136.0</td>\n",
              "      <td>70.0</td>\n",
              "      <td>China</td>\n",
              "      <td>CHN</td>\n",
              "      <td>1992 Summer</td>\n",
              "      <td>1992</td>\n",
              "      <td>Summer</td>\n",
              "      <td>Barcelona</td>\n",
              "      <td>Gymnastics</td>\n",
              "      <td>Gymnastics Women's Balance Beam</td>\n",
              "      <td>Silver</td>\n",
              "    </tr>\n",
              "  </tbody>\n",
              "</table>\n",
              "</div>"
            ],
            "text/plain": [
              "                                                Name  ...   Medal\n",
              "Athlete_ID                                            ...        \n",
              "35292       Mariya Yevgenyevna Filatova (-Kurbatova)  ...    Gold\n",
              "35292       Mariya Yevgenyevna Filatova (-Kurbatova)  ...    Gold\n",
              "35292       Mariya Yevgenyevna Filatova (-Kurbatova)  ...  Bronze\n",
              "71914                                          Lu Li  ...    Gold\n",
              "71914                                          Lu Li  ...  Silver\n",
              "\n",
              "[5 rows x 14 columns]"
            ]
          },
          "metadata": {},
          "execution_count": 171
        }
      ]
    },
    {
      "cell_type": "markdown",
      "metadata": {
        "id": "Hz48VFUiytmF"
      },
      "source": [
        "Entre os mais baixos, duas atletas levam esse posto: **Mariya Yevgenyevna Filatova** e **Mariya Yevgenyevna Filatova**, ambas da ginástica"
      ]
    },
    {
      "cell_type": "markdown",
      "metadata": {
        "id": "OhK5DoLEmGEA"
      },
      "source": [
        "###Medalhas por idade"
      ]
    },
    {
      "cell_type": "code",
      "metadata": {
        "colab": {
          "base_uri": "https://localhost:8080/",
          "height": 0
        },
        "id": "QQvBAoVOmIHa",
        "outputId": "b56b2ce0-07e1-4ecf-8e3d-738ddb642a20"
      },
      "source": [
        "plt.figure(figsize=(12, 6))\n",
        "plt.title('Medalhas por idade')\n",
        "plt.xlabel('Age')\n",
        "plt.ylabel('Número de Participantes')\n",
        "\n",
        "plt.hist(df.Age, bins=np.arange(10,80,2), color='blue');\n"
      ],
      "execution_count": 174,
      "outputs": [
        {
          "output_type": "display_data",
          "data": {
            "image/png": "[encoded data removed]",
            "text/plain": [
              "<Figure size 864x432 with 1 Axes>"
            ]
          },
          "metadata": {}
        }
      ]
    },
    {
      "cell_type": "markdown",
      "metadata": {
        "id": "YiuKBs2VmfHp"
      },
      "source": [
        "O intervalo entre 20-30 anos é o que mais tem medalhas. "
      ]
    },
    {
      "cell_type": "markdown",
      "metadata": {
        "id": "553vkljR83ul"
      },
      "source": [
        "###Pessoa mais nova e velha a ganhar uma medalha"
      ]
    },
    {
      "cell_type": "markdown",
      "metadata": {
        "id": "bfkZdGLD9Q1d"
      },
      "source": [
        "Primeiro, o mais velho:"
      ]
    },
    {
      "cell_type": "code",
      "metadata": {
        "colab": {
          "base_uri": "https://localhost:8080/",
          "height": 143
        },
        "id": "xTZDFsMG87GP",
        "outputId": "20217a87-dab1-4e81-a0db-ad37df6bbe55"
      },
      "source": [
        "idade_idoso = df[\"Age\"].max()\n",
        "df[df[\"Age\"] == idade_idoso]"
      ],
      "execution_count": 172,
      "outputs": [
        {
          "output_type": "execute_result",
          "data": {
            "text/html": [
              "<div>\n",
              "<style scoped>\n",
              "    .dataframe tbody tr th:only-of-type {\n",
              "        vertical-align: middle;\n",
              "    }\n",
              "\n",
              "    .dataframe tbody tr th {\n",
              "        vertical-align: top;\n",
              "    }\n",
              "\n",
              "    .dataframe thead th {\n",
              "        text-align: right;\n",
              "    }\n",
              "</style>\n",
              "<table border=\"1\" class=\"dataframe\">\n",
              "  <thead>\n",
              "    <tr style=\"text-align: right;\">\n",
              "      <th></th>\n",
              "      <th>Name</th>\n",
              "      <th>Sex</th>\n",
              "      <th>Age</th>\n",
              "      <th>Height</th>\n",
              "      <th>Weight</th>\n",
              "      <th>Team</th>\n",
              "      <th>NOC</th>\n",
              "      <th>Games</th>\n",
              "      <th>Year</th>\n",
              "      <th>Season</th>\n",
              "      <th>City</th>\n",
              "      <th>Sport</th>\n",
              "      <th>Event</th>\n",
              "      <th>Medal</th>\n",
              "    </tr>\n",
              "    <tr>\n",
              "      <th>Athlete_ID</th>\n",
              "      <th></th>\n",
              "      <th></th>\n",
              "      <th></th>\n",
              "      <th></th>\n",
              "      <th></th>\n",
              "      <th></th>\n",
              "      <th></th>\n",
              "      <th></th>\n",
              "      <th></th>\n",
              "      <th></th>\n",
              "      <th></th>\n",
              "      <th></th>\n",
              "      <th></th>\n",
              "      <th></th>\n",
              "    </tr>\n",
              "  </thead>\n",
              "  <tbody>\n",
              "    <tr>\n",
              "      <th>22984</th>\n",
              "      <td>John (Herbert Crawford-) Copley (Williamson-)</td>\n",
              "      <td>MALE</td>\n",
              "      <td>73.0</td>\n",
              "      <td>180.0</td>\n",
              "      <td>70.0</td>\n",
              "      <td>Great Britain</td>\n",
              "      <td>GBR</td>\n",
              "      <td>1948 Summer</td>\n",
              "      <td>1948</td>\n",
              "      <td>Summer</td>\n",
              "      <td>London</td>\n",
              "      <td>Art Competitions</td>\n",
              "      <td>Art Competitions Mixed Painting, Graphic Arts</td>\n",
              "      <td>Silver</td>\n",
              "    </tr>\n",
              "  </tbody>\n",
              "</table>\n",
              "</div>"
            ],
            "text/plain": [
              "                                                     Name  ...   Medal\n",
              "Athlete_ID                                                 ...        \n",
              "22984       John (Herbert Crawford-) Copley (Williamson-)  ...  Silver\n",
              "\n",
              "[1 rows x 14 columns]"
            ]
          },
          "metadata": {},
          "execution_count": 172
        }
      ]
    },
    {
      "cell_type": "markdown",
      "metadata": {
        "id": "_Rl0E-ZbEham"
      },
      "source": [
        "John Copley, com 73 anos, ganhou uma medalha, em uma modalidade que foi extinta. Fui pesquisar e vi que havia competição para arquitetos e artistas, e a última edição foi em 1948. \n"
      ]
    },
    {
      "cell_type": "markdown",
      "metadata": {
        "id": "ku_XwHh09Uus"
      },
      "source": [
        "Agora, o mais novo:"
      ]
    },
    {
      "cell_type": "code",
      "metadata": {
        "colab": {
          "base_uri": "https://localhost:8080/",
          "height": 143
        },
        "id": "G_sSNz2F9WI1",
        "outputId": "4f237b50-6d18-40f1-ddf0-9134185a66f6"
      },
      "source": [
        "idade_crianca = df[\"Age\"].min()\n",
        "df[df[\"Age\"] == idade_crianca]"
      ],
      "execution_count": 173,
      "outputs": [
        {
          "output_type": "execute_result",
          "data": {
            "text/html": [
              "<div>\n",
              "<style scoped>\n",
              "    .dataframe tbody tr th:only-of-type {\n",
              "        vertical-align: middle;\n",
              "    }\n",
              "\n",
              "    .dataframe tbody tr th {\n",
              "        vertical-align: top;\n",
              "    }\n",
              "\n",
              "    .dataframe thead th {\n",
              "        text-align: right;\n",
              "    }\n",
              "</style>\n",
              "<table border=\"1\" class=\"dataframe\">\n",
              "  <thead>\n",
              "    <tr style=\"text-align: right;\">\n",
              "      <th></th>\n",
              "      <th>Name</th>\n",
              "      <th>Sex</th>\n",
              "      <th>Age</th>\n",
              "      <th>Height</th>\n",
              "      <th>Weight</th>\n",
              "      <th>Team</th>\n",
              "      <th>NOC</th>\n",
              "      <th>Games</th>\n",
              "      <th>Year</th>\n",
              "      <th>Season</th>\n",
              "      <th>City</th>\n",
              "      <th>Sport</th>\n",
              "      <th>Event</th>\n",
              "      <th>Medal</th>\n",
              "    </tr>\n",
              "    <tr>\n",
              "      <th>Athlete_ID</th>\n",
              "      <th></th>\n",
              "      <th></th>\n",
              "      <th></th>\n",
              "      <th></th>\n",
              "      <th></th>\n",
              "      <th></th>\n",
              "      <th></th>\n",
              "      <th></th>\n",
              "      <th></th>\n",
              "      <th></th>\n",
              "      <th></th>\n",
              "      <th></th>\n",
              "      <th></th>\n",
              "      <th></th>\n",
              "    </tr>\n",
              "  </thead>\n",
              "  <tbody>\n",
              "    <tr>\n",
              "      <th>71691</th>\n",
              "      <td>Dimitrios Loundras</td>\n",
              "      <td>MALE</td>\n",
              "      <td>10.0</td>\n",
              "      <td>180.0</td>\n",
              "      <td>70.0</td>\n",
              "      <td>Ethnikos Gymnastikos Syllogos</td>\n",
              "      <td>GRE</td>\n",
              "      <td>1896 Summer</td>\n",
              "      <td>1896</td>\n",
              "      <td>Summer</td>\n",
              "      <td>Athina</td>\n",
              "      <td>Gymnastics</td>\n",
              "      <td>Gymnastics Men's Parallel Bars, Teams</td>\n",
              "      <td>Bronze</td>\n",
              "    </tr>\n",
              "  </tbody>\n",
              "</table>\n",
              "</div>"
            ],
            "text/plain": [
              "                          Name  ...   Medal\n",
              "Athlete_ID                      ...        \n",
              "71691       Dimitrios Loundras  ...  Bronze\n",
              "\n",
              "[1 rows x 14 columns]"
            ]
          },
          "metadata": {},
          "execution_count": 173
        }
      ]
    },
    {
      "cell_type": "markdown",
      "metadata": {
        "id": "0lRnMcrX9i8T"
      },
      "source": [
        "Dimitrios Loundras, com 10 anos, ganhou uma medalha... eu com 10 anos estava comendo terra.\n",
        "\n"
      ]
    },
    {
      "cell_type": "markdown",
      "metadata": {
        "id": "FFIu091wzhKx"
      },
      "source": [
        "###10 países que mais ganharam medalhas"
      ]
    },
    {
      "cell_type": "code",
      "metadata": {
        "colab": {
          "base_uri": "https://localhost:8080/"
        },
        "id": "gHDUd6nnzZYd",
        "outputId": "6a4ae738-d91b-4d99-98aa-a7fb62060e55"
      },
      "source": [
        "paises_medalha = df.Team.value_counts().sort_values(ascending=False).head(10)\n",
        "paises_medalha"
      ],
      "execution_count": 175,
      "outputs": [
        {
          "output_type": "execute_result",
          "data": {
            "text/plain": [
              "United States    5208\n",
              "Soviet Union     2448\n",
              "Germany          1981\n",
              "Great Britain    1670\n",
              "France           1547\n",
              "Italy            1525\n",
              "Sweden           1427\n",
              "Australia        1301\n",
              "Canada           1240\n",
              "Hungary          1127\n",
              "Name: Team, dtype: int64"
            ]
          },
          "metadata": {},
          "execution_count": 175
        }
      ]
    },
    {
      "cell_type": "markdown",
      "metadata": {
        "id": "7h0fMMjFzlMm"
      },
      "source": [
        "Vamos plotar um gráfico com esses dados para melhor visualização:"
      ]
    },
    {
      "cell_type": "code",
      "metadata": {
        "colab": {
          "base_uri": "https://localhost:8080/",
          "height": 457
        },
        "id": "bn_csCXozE7b",
        "outputId": "7349ee43-becf-40c1-af27-ad47baf06453"
      },
      "source": [
        "sns.set_style('darkgrid')\n",
        "plt.rcParams['font.size'] = 14\n",
        "plt.rcParams['figure.figsize'] = (9, 5)\n",
        "plt.rcParams['figure.facecolor'] = '#00000000'\n",
        "\n",
        "plt.figure(figsize=(12,6))\n",
        "plt.xticks(rotation=75)\n",
        "plt.title('Quantidade de Medalhas por país')\n",
        "sns.barplot(x=paises_medalha.index, y=paises_medalha);"
      ],
      "execution_count": 176,
      "outputs": [
        {
          "output_type": "display_data",
          "data": {
            "image/png": "[encoded data removed]",
            "text/plain": [
              "<Figure size 864x432 with 1 Axes>"
            ]
          },
          "metadata": {
            "needs_background": "light"
          }
        }
      ]
    },
    {
      "cell_type": "markdown",
      "metadata": {
        "id": "8PeVHiOx30fK"
      },
      "source": [
        "### Participações por temporada"
      ]
    },
    {
      "cell_type": "code",
      "metadata": {
        "colab": {
          "base_uri": "https://localhost:8080/"
        },
        "id": "SDyGhc5Q33Jh",
        "outputId": "5ad5ac45-216a-4700-8e4d-f3851f432f07"
      },
      "source": [
        "temporada = df.Season.value_counts()\n",
        "temporada"
      ],
      "execution_count": 177,
      "outputs": [
        {
          "output_type": "execute_result",
          "data": {
            "text/plain": [
              "Summer    34081\n",
              "Winter     5672\n",
              "Name: Season, dtype: int64"
            ]
          },
          "metadata": {},
          "execution_count": 177
        }
      ]
    },
    {
      "cell_type": "code",
      "metadata": {
        "colab": {
          "base_uri": "https://localhost:8080/",
          "height": 393
        },
        "id": "yc8z6V8a4A3r",
        "outputId": "4ee0b208-d809-4cfb-8198-d1f24607a35b"
      },
      "source": [
        "sns.set_style('darkgrid')\n",
        "plt.rcParams['font.size'] = 14\n",
        "plt.rcParams['figure.figsize'] = (9, 5)\n",
        "plt.rcParams['figure.facecolor'] = '#00000000'\n",
        "\n",
        "plt.figure(figsize=(12,6))\n",
        "plt.xticks(rotation=0)\n",
        "plt.title('Olimpíadas por temporada')\n",
        "sns.barplot(x=temporada.index, y=temporada);"
      ],
      "execution_count": 178,
      "outputs": [
        {
          "output_type": "display_data",
          "data": {
            "image/png": "[encoded data removed]",
            "text/plain": [
              "<Figure size 864x432 with 1 Axes>"
            ]
          },
          "metadata": {
            "needs_background": "light"
          }
        }
      ]
    },
    {
      "cell_type": "markdown",
      "metadata": {
        "id": "LagsJ_mdoooR"
      },
      "source": [
        "###Desempenho do Brasil nas Olimpíadas"
      ]
    },
    {
      "cell_type": "code",
      "metadata": {
        "colab": {
          "base_uri": "https://localhost:8080/",
          "height": 354
        },
        "id": "O1CtDUDNye8v",
        "outputId": "ef6bd52c-249c-49e6-a8e1-e8024cdea97d"
      },
      "source": [
        "df.drop_duplicates(subset=['Team','NOC','Games','Year','City','Sport','Event','Medal'],inplace=True)\n",
        "br2 = df[df['NOC'] == 'BRA']\n",
        "medal_BR = br2.groupby('Year').count()['Medal'].reset_index()\n",
        "\n",
        "x = medal_BR['Year']\n",
        "y = medal_BR['Medal']\n",
        "\n",
        "plt.plot(x,y)\n",
        "plt.title('Atletas Brasileiros com Medalhas por Olimpíada')\n",
        "plt.xlabel('Ano')\n",
        "plt.ylabel('Número de Atletas')\n",
        "plt.show()\n"
      ],
      "execution_count": 230,
      "outputs": [
        {
          "output_type": "display_data",
          "data": {
            "image/png": "[encoded data removed]",
            "text/plain": [
              "<Figure size 648x360 with 1 Axes>"
            ]
          },
          "metadata": {}
        }
      ]
    },
    {
      "cell_type": "markdown",
      "metadata": {
        "id": "t1aAALw38Nhc"
      },
      "source": [
        "## Conclusões"
      ]
    },
    {
      "cell_type": "markdown",
      "metadata": {
        "id": "T0ZgHbTgAmH5"
      },
      "source": [
        "Após a análise dos dados, algumas conclusões sobre os medalhistas podem ser tiradas.\n",
        "Por exemplo, a  maioria dos participantes são majoritariamente homens e, consequentemente, são os que mais ganharam medalhas. Mesmo assim, a participação feminina desde a primeira edição das olimpíadas, em 1896, aumenta a cada edição. Outro número que cresceu foi o ganho de medalhas pela delegação olímpica brasileira, porém, muito inferior aos Estados Unidos, que lidera com folga. Inclusive, o atleta que mais ganhou medalhas na história das olimpíadas foi o Michael Phelps, estadunidense, com 28 medalhas. Além disso, um padrão observado foi que a média de idade entre pessoas que ganharam medalhas gira em torno de 26 anos para homens e 24 anos para mulheres, portanto, se você é mais novo, ainda dá tempo de garantir a sua e entrar para as estatísticas! Já você que passou dessa idade, a esperança não acabou: a pessoa mais velha a ganhar uma medalha tinha 73 anos, ou seja, nada é impossível.\n"
      ]
    }
  ]
}